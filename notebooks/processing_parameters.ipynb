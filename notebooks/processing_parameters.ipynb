{
 "cells": [
  {
   "cell_type": "code",
   "execution_count": 1,
   "metadata": {},
   "outputs": [],
   "source": [
    "from asp_plot.processing_parameters import ProcessingParameters"
   ]
  },
  {
   "cell_type": "markdown",
   "metadata": {},
   "source": [
    "## When bundle adjustment was not run"
   ]
  },
  {
   "cell_type": "code",
   "execution_count": 2,
   "metadata": {},
   "outputs": [],
   "source": [
    "directory = \"/Users/ben/Dropbox/UW_Shean/WV/2022/WV03_20220417_1040010074793300_1040010075633C00/\"\n",
    "stereo_directory = \"stereo/\""
   ]
  },
  {
   "cell_type": "code",
   "execution_count": 6,
   "metadata": {},
   "outputs": [
    {
     "ename": "ValueError",
     "evalue": "\n\nCould not find stereo log and point2dem log files in stereo directory\nCheck that these *log*.txt files exist in the directory specified.\n\n",
     "output_type": "error",
     "traceback": [
      "\u001b[0;31m---------------------------------------------------------------------------\u001b[0m",
      "\u001b[0;31mTypeError\u001b[0m                                 Traceback (most recent call last)",
      "File \u001b[0;32m~/Desktop/uw-github/asp_plot/asp_plot/processing_parameters.py:33\u001b[0m, in \u001b[0;36mProcessingParameters.__init__\u001b[0;34m(self, processing_directory, bundle_adjust_directory, stereo_directory)\u001b[0m\n\u001b[1;32m     31\u001b[0m \u001b[38;5;28;01mtry\u001b[39;00m:\n\u001b[1;32m     32\u001b[0m     \u001b[38;5;28mself\u001b[39m\u001b[38;5;241m.\u001b[39mstereo_logs \u001b[38;5;241m=\u001b[39m glob\u001b[38;5;241m.\u001b[39mglob(\n\u001b[0;32m---> 33\u001b[0m         \u001b[43mos\u001b[49m\u001b[38;5;241;43m.\u001b[39;49m\u001b[43mpath\u001b[49m\u001b[38;5;241;43m.\u001b[39;49m\u001b[43mjoin\u001b[49m\u001b[43m(\u001b[49m\u001b[38;5;28;43mself\u001b[39;49m\u001b[38;5;241;43m.\u001b[39;49m\u001b[43mfull_stereo_directory\u001b[49m\u001b[43m,\u001b[49m\u001b[43m \u001b[49m\u001b[38;5;124;43m\"\u001b[39;49m\u001b[38;5;124;43m*log-stereo*.txt\u001b[39;49m\u001b[38;5;124;43m\"\u001b[39;49m\u001b[43m)\u001b[49m\n\u001b[1;32m     34\u001b[0m     )\n\u001b[1;32m     35\u001b[0m     \u001b[38;5;28mself\u001b[39m\u001b[38;5;241m.\u001b[39mpoint2dem_log \u001b[38;5;241m=\u001b[39m glob_file(\n\u001b[1;32m     36\u001b[0m         \u001b[38;5;28mself\u001b[39m\u001b[38;5;241m.\u001b[39mfull_stereo_directory, \u001b[38;5;124m\"\u001b[39m\u001b[38;5;124m*log-point2dem*.txt\u001b[39m\u001b[38;5;124m\"\u001b[39m\n\u001b[1;32m     37\u001b[0m     )\n",
      "File \u001b[0;32m<frozen posixpath>:76\u001b[0m, in \u001b[0;36mjoin\u001b[0;34m(a, *p)\u001b[0m\n",
      "\u001b[0;31mTypeError\u001b[0m: expected str, bytes or os.PathLike object, not NoneType",
      "\nDuring handling of the above exception, another exception occurred:\n",
      "\u001b[0;31mValueError\u001b[0m                                Traceback (most recent call last)",
      "Cell \u001b[0;32mIn[6], line 1\u001b[0m\n\u001b[0;32m----> 1\u001b[0m processing_parameters \u001b[38;5;241m=\u001b[39m \u001b[43mProcessingParameters\u001b[49m\u001b[43m(\u001b[49m\n\u001b[1;32m      2\u001b[0m \u001b[43m    \u001b[49m\u001b[43mprocessing_directory\u001b[49m\u001b[38;5;241;43m=\u001b[39;49m\u001b[43mdirectory\u001b[49m\u001b[43m,\u001b[49m\n\u001b[1;32m      3\u001b[0m \u001b[43m    \u001b[49m\u001b[38;5;66;43;03m# stereo_directory=stereo_directory\u001b[39;49;00m\n\u001b[1;32m      4\u001b[0m \u001b[43m)\u001b[49m\n\u001b[1;32m      5\u001b[0m processing_parameters_dict \u001b[38;5;241m=\u001b[39m processing_parameters\u001b[38;5;241m.\u001b[39mfrom_log_files()\n\u001b[1;32m      7\u001b[0m \u001b[38;5;28mprint\u001b[39m(\u001b[38;5;124mf\u001b[39m\u001b[38;5;124m\"\u001b[39m\u001b[38;5;124mProcessed on: \u001b[39m\u001b[38;5;132;01m{\u001b[39;00mprocessing_parameters_dict[\u001b[38;5;124m'\u001b[39m\u001b[38;5;124mprocessing_timestamp\u001b[39m\u001b[38;5;124m'\u001b[39m]\u001b[38;5;132;01m}\u001b[39;00m\u001b[38;5;130;01m\\n\u001b[39;00m\u001b[38;5;124m\"\u001b[39m)\n",
      "File \u001b[0;32m~/Desktop/uw-github/asp_plot/asp_plot/processing_parameters.py:39\u001b[0m, in \u001b[0;36mProcessingParameters.__init__\u001b[0;34m(self, processing_directory, bundle_adjust_directory, stereo_directory)\u001b[0m\n\u001b[1;32m     35\u001b[0m     \u001b[38;5;28mself\u001b[39m\u001b[38;5;241m.\u001b[39mpoint2dem_log \u001b[38;5;241m=\u001b[39m glob_file(\n\u001b[1;32m     36\u001b[0m         \u001b[38;5;28mself\u001b[39m\u001b[38;5;241m.\u001b[39mfull_stereo_directory, \u001b[38;5;124m\"\u001b[39m\u001b[38;5;124m*log-point2dem*.txt\u001b[39m\u001b[38;5;124m\"\u001b[39m\n\u001b[1;32m     37\u001b[0m     )\n\u001b[1;32m     38\u001b[0m \u001b[38;5;28;01mexcept\u001b[39;00m:\n\u001b[0;32m---> 39\u001b[0m     \u001b[38;5;28;01mraise\u001b[39;00m \u001b[38;5;167;01mValueError\u001b[39;00m(\n\u001b[1;32m     40\u001b[0m         \u001b[38;5;124m\"\u001b[39m\u001b[38;5;130;01m\\n\u001b[39;00m\u001b[38;5;130;01m\\n\u001b[39;00m\u001b[38;5;124mCould not find stereo log and point2dem log files in stereo directory\u001b[39m\u001b[38;5;130;01m\\n\u001b[39;00m\u001b[38;5;124mCheck that these *log*.txt files exist in the directory specified.\u001b[39m\u001b[38;5;130;01m\\n\u001b[39;00m\u001b[38;5;130;01m\\n\u001b[39;00m\u001b[38;5;124m\"\u001b[39m\n\u001b[1;32m     41\u001b[0m     )\n",
      "\u001b[0;31mValueError\u001b[0m: \n\nCould not find stereo log and point2dem log files in stereo directory\nCheck that these *log*.txt files exist in the directory specified.\n\n"
     ]
    }
   ],
   "source": [
    "processing_parameters = ProcessingParameters(\n",
    "    processing_directory=directory,\n",
    "    stereo_directory=stereo_directory\n",
    ")\n",
    "processing_parameters_dict = processing_parameters.from_log_files()\n",
    "\n",
    "print(f\"Processed on: {processing_parameters_dict['processing_timestamp']}\\n\")\n",
    "\n",
    "print(f\"Reference DEM: {processing_parameters_dict['reference_dem']}\\n\")\n",
    "\n",
    "print(f\"Bundle adjustment ({processing_parameters_dict['bundle_adjust_run_time']}):\\n\")\n",
    "print(processing_parameters_dict[\"bundle_adjust\"])\n",
    "\n",
    "print(f\"\\nStereo ({processing_parameters_dict['stereo_run_time']}):\\n\")\n",
    "print(processing_parameters_dict[\"stereo\"])\n",
    "\n",
    "print(f\"\\nPoint2dem ({processing_parameters_dict['point2dem_run_time']}):\\n\")\n",
    "print(processing_parameters_dict[\"point2dem\"])"
   ]
  },
  {
   "cell_type": "markdown",
   "metadata": {},
   "source": [
    "## When bundle adjustment was run"
   ]
  },
  {
   "cell_type": "code",
   "execution_count": 4,
   "metadata": {},
   "outputs": [],
   "source": [
    "directory = \"/Users/ben/Dropbox/UW_Shean/WV/2022/WV03_20220417_1040010074793300_1040010075633C00/\"\n",
    "ba_directory = \"ba/\"\n",
    "stereo_directory = \"stereo/\""
   ]
  },
  {
   "cell_type": "code",
   "execution_count": 5,
   "metadata": {},
   "outputs": [
    {
     "name": "stdout",
     "output_type": "stream",
     "text": [
      "Processed on: 2024-04-14 17:55:43\n",
      "\n",
      "Reference DEM: /nobackup/bpurint1/data/utqiagvik/COP/COP30_utqiagvik_lzw-adj_proj.tif\n",
      "\n",
      "Bundle adjustment (0 hours and 7 minutes):\n",
      "\n",
      "bundle_adjust -t dg --weight-image /nobackup/bpurint1/data/utqiagvik/WV/utqiagvik_wv_EE/2022/utqiagvik_10m_UTM4N_seaice_mask_0and1.tif --datum WGS84 --individually-normalize --normalize-ip-tiles --ip-per-tile 50 --matches-per-tile 10 --min-triangulation-angle 10 --mapproj-dem /nobackup/bpurint1/data/utqiagvik/COP/COP30_utqiagvik_lzw-adj_proj.tif --propagate-errors --tri-weight 0.1 --tri-robust-threshold 0.1 --camera-weight 0 1040010074793300.r100.tif 1040010075633C00.r100.tif 1040010074793300.r100.xml 1040010075633C00.r100.xml -o ba/ba_50ips_10matches_dg_weight_image --threads 28\n",
      "\n",
      "Stereo (3 hours and 41 minutes):\n",
      "\n",
      "stereo --stereo-algorithm asp_mgm --corr-kernel 7 7 --subpixel-kernel 15 15 --cost-mode 4 --subpixel-mode 9 --corr-max-levels 5 --filter-mode 1 --erode-max-size 0 --individually-normalize --corr-memory-limit-mb 5000 --sgm-collar-size 256 --corr-tile-size 1024 --alignment-method none --corr-seed-mode 1 --compute-point-cloud-center-only --threads 24 1040010074793300_ortho_0.35m.tif 1040010075633C00_ortho_0.35m.tif ba/ba_50ips_10matches_dg_weight_image-1040010074793300.r100.adjusted_state.json ba/ba_50ips_10matches_dg_weight_image-1040010075633C00.r100.adjusted_state.json stereo_ba_50ips_10matches_dg_weight_image__ortho_0.35m_mode_asp_mgm_spm_9_corr_7_rfne_15_cost_4_refdem_COP30/20220417_2252_1040010074793300_1040010075633C00 /nobackup/bpurint1/data/utqiagvik/COP/COP30_utqiagvik_lzw-adj_proj.tif\n",
      "\n",
      "Point2dem (0 hours and 26 minutes):\n",
      "\n",
      "point2dem --nodata-value -9999 --t_srs EPSG:32604 --threads 24 --propagate-errors --remove-outliers --remove-outliers-params 75.0 3.0 --errorimage --tr 1 -o stereo_ba_50ips_10matches_dg_weight_image__ortho_0.35m_mode_asp_mgm_spm_9_corr_7_rfne_15_cost_4_refdem_COP30/20220417_2252_1040010074793300_1040010075633C00_1m stereo_ba_50ips_10matches_dg_weight_image__ortho_0.35m_mode_asp_mgm_spm_9_corr_7_rfne_15_cost_4_refdem_COP30/20220417_2252_1040010074793300_1040010075633C00-PC.tif\n"
     ]
    }
   ],
   "source": [
    "processing_parameters = ProcessingParameters(\n",
    "    processing_directory=directory,\n",
    "    bundle_adjust_directory=ba_directory,\n",
    "    stereo_directory=stereo_directory\n",
    ")\n",
    "processing_parameters_dict = processing_parameters.from_log_files()\n",
    "\n",
    "print(f\"Processed on: {processing_parameters_dict['processing_timestamp']}\\n\")\n",
    "\n",
    "print(f\"Reference DEM: {processing_parameters_dict['reference_dem']}\\n\")\n",
    "\n",
    "print(f\"Bundle adjustment ({processing_parameters_dict['bundle_adjust_run_time']}):\\n\")\n",
    "print(processing_parameters_dict[\"bundle_adjust\"])\n",
    "\n",
    "print(f\"\\nStereo ({processing_parameters_dict['stereo_run_time']}):\\n\")\n",
    "print(processing_parameters_dict[\"stereo\"])\n",
    "\n",
    "print(f\"\\nPoint2dem ({processing_parameters_dict['point2dem_run_time']}):\\n\")\n",
    "print(processing_parameters_dict[\"point2dem\"])"
   ]
  }
 ],
 "metadata": {
  "kernelspec": {
   "display_name": "asp_plot",
   "language": "python",
   "name": "python3"
  },
  "language_info": {
   "codemirror_mode": {
    "name": "ipython",
    "version": 3
   },
   "file_extension": ".py",
   "mimetype": "text/x-python",
   "name": "python",
   "nbconvert_exporter": "python",
   "pygments_lexer": "ipython3",
   "version": "3.12.3"
  }
 },
 "nbformat": 4,
 "nbformat_minor": 2
}
