{
 "cells": [
  {
   "cell_type": "code",
   "execution_count": 1,
   "metadata": {},
   "outputs": [],
   "source": [
    "from asp_plot.processing_parameters import ProcessingParameters"
   ]
  },
  {
   "cell_type": "code",
   "execution_count": 2,
   "metadata": {},
   "outputs": [],
   "source": [
    "directory = \"/Users/ben/Dropbox/UW_Shean/WV/2022/WV03_20220417_1040010074793300_1040010075633C00/\"\n",
    "\n",
    "ba_directory = \"ba/\"\n",
    "stereo_directory = \"stereo/\"\n"
   ]
  },
  {
   "cell_type": "code",
   "execution_count": 3,
   "metadata": {},
   "outputs": [
    {
     "name": "stdout",
     "output_type": "stream",
     "text": [
      "Processed on: 2024-04-14 17:07:41\n",
      "\n",
      "Reference DEM: /nobackup/bpurint1/data/utqiagvik/COP/COP30_utqiagvik_lzw-adj_proj.tif\n",
      "\n",
      "Bundle adjustment (0 hours and 7 minutes):\n",
      "\n",
      "bundle_adjust -t dg --weight-image /nobackup/bpurint1/data/utqiagvik/WV/utqiagvik_wv_EE/2022/utqiagvik_10m_UTM4N_seaice_mask_0and1.tif --datum WGS84 --individually-normalize --normalize-ip-tiles --ip-per-tile 50 --matches-per-tile 10 --min-triangulation-angle 10 --mapproj-dem /nobackup/bpurint1/data/utqiagvik/COP/COP30_utqiagvik_lzw-adj_proj.tif --propagate-errors --tri-weight 0.1 --tri-robust-threshold 0.1 --camera-weight 0 1040010074793300.r100.tif 1040010075633C00.r100.tif 1040010074793300.r100.xml 1040010075633C00.r100.xml -o ba/ba_50ips_10matches_dg_weight_image --threads 28\n",
      "\n",
      "Stereo (3 hours and 41 minutes):\n",
      "\n",
      "stereo --stereo-algorithm asp_mgm --corr-kernel 7 7 --subpixel-kernel 15 15 --cost-mode 4 --subpixel-mode 9 --corr-max-levels 5 --filter-mode 1 --erode-max-size 0 --individually-normalize --corr-memory-limit-mb 5000 --sgm-collar-size 256 --corr-tile-size 1024 --alignment-method none --corr-seed-mode 1 --compute-point-cloud-center-only --threads 24 1040010074793300_ortho_0.35m.tif 1040010075633C00_ortho_0.35m.tif ba/ba_50ips_10matches_dg_weight_image-1040010074793300.r100.adjusted_state.json ba/ba_50ips_10matches_dg_weight_image-1040010075633C00.r100.adjusted_state.json stereo_ba_50ips_10matches_dg_weight_image__ortho_0.35m_mode_asp_mgm_spm_9_corr_7_rfne_15_cost_4_refdem_COP30/20220417_2252_1040010074793300_1040010075633C00 /nobackup/bpurint1/data/utqiagvik/COP/COP30_utqiagvik_lzw-adj_proj.tif\n",
      "\n",
      "Point2dem (0 hours and 26 minutes):\n",
      "\n",
      "point2dem --nodata-value -9999 --t_srs EPSG:32604 --threads 24 --propagate-errors --remove-outliers --remove-outliers-params 75.0 3.0 --errorimage --tr 1 -o stereo_ba_50ips_10matches_dg_weight_image__ortho_0.35m_mode_asp_mgm_spm_9_corr_7_rfne_15_cost_4_refdem_COP30/20220417_2252_1040010074793300_1040010075633C00_1m stereo_ba_50ips_10matches_dg_weight_image__ortho_0.35m_mode_asp_mgm_spm_9_corr_7_rfne_15_cost_4_refdem_COP30/20220417_2252_1040010074793300_1040010075633C00-PC.tif\n"
     ]
    }
   ],
   "source": [
    "processing_parameters = ProcessingParameters(directory, ba_directory, stereo_directory)\n",
    "processing_parameters_dict = processing_parameters.from_log_files()\n",
    "\n",
    "print(f\"Processed on: {processing_parameters_dict['processing_timestamp']}\\n\")\n",
    "\n",
    "print(f\"Reference DEM: {processing_parameters_dict['reference_dem']}\\n\")\n",
    "\n",
    "print(f\"Bundle adjustment ({processing_parameters_dict['bundle_adjust_run_time']}):\\n\")\n",
    "print(processing_parameters_dict[\"bundle_adjust\"])\n",
    "\n",
    "print(f\"\\nStereo ({processing_parameters_dict['stereo_run_time']}):\\n\")\n",
    "print(processing_parameters_dict[\"stereo\"])\n",
    "\n",
    "print(f\"\\nPoint2dem ({processing_parameters_dict['point2dem_run_time']}):\\n\")\n",
    "print(processing_parameters_dict[\"point2dem\"])"
   ]
  }
 ],
 "metadata": {
  "kernelspec": {
   "display_name": "asp_plot",
   "language": "python",
   "name": "python3"
  },
  "language_info": {
   "codemirror_mode": {
    "name": "ipython",
    "version": 3
   },
   "file_extension": ".py",
   "mimetype": "text/x-python",
   "name": "python",
   "nbconvert_exporter": "python",
   "pygments_lexer": "ipython3",
   "version": "3.12.3"
  }
 },
 "nbformat": 4,
 "nbformat_minor": 2
}
