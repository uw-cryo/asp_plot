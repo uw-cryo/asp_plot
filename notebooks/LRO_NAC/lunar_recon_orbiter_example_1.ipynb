{
 "cells": [
  {
   "cell_type": "code",
   "execution_count": 1,
   "metadata": {},
   "outputs": [],
   "source": [
    "%load_ext autoreload\n",
    "%autoreload 2\n",
    "\n",
    "from asp_plot.processing_parameters import ProcessingParameters"
   ]
  },
  {
   "cell_type": "markdown",
   "metadata": {},
   "source": [
    "## Example plotting following [ASP Docs Section 4.1](/Users/ben/Dropbox/UW_Shean/asp_plot-test_data/docs_examples/docs_sect_4_1_lunar_LRO_NAC/LRONAC_example) for Lunar Reconnaissance Orbiter (LRO) Narrow Angle Camera (NAC)"
   ]
  },
  {
   "cell_type": "markdown",
   "metadata": {},
   "source": [
    "### Processing Parameters"
   ]
  },
  {
   "cell_type": "code",
   "execution_count": 2,
   "metadata": {},
   "outputs": [],
   "source": [
    "directory = \"/Users/ben/Dropbox/UW_Shean/asp_plot-test_data/docs_examples/docs_sect_4_1_lunar_LRO_NAC/LRONAC_example\"\n",
    "stereo_directory = \"run/\""
   ]
  },
  {
   "cell_type": "code",
   "execution_count": 3,
   "metadata": {},
   "outputs": [
    {
     "name": "stdout",
     "output_type": "stream",
     "text": [
      "Processed on: 2025-10-10 17:25:55\n",
      "\n",
      "Reference DEM: \n",
      "\n",
      "Bundle adjustment (N/A):\n",
      "\n",
      "Bundle adjustment not run\n",
      "\n",
      "Stereo (0 hours and 3 minutes):\n",
      "\n",
      "stereo M181058717LE_crop.cub M181073012LE_crop.cub M181058717LE.json M181073012LE.json --alignment-method local_epipolar --stereo-algorithm asp_mgm --subpixel-mode 9 run/run --left-image-crop-win 2259 1196 900 973 --right-image-crop-win 2432 1423 1173 1218 --corr-seed-mode 1 --sgm-collar-size 128 --compute-point-cloud-center-only --threads 8\n",
      "\n",
      "Point2dem (0 hours and 0 minutes):\n",
      "\n",
      "point2dem --auto-proj-center --errorimage run/run-PC.tif --orthoimage run/run-L.tif\n"
     ]
    }
   ],
   "source": [
    "processing_parameters = ProcessingParameters(\n",
    "    processing_directory=directory,\n",
    "    stereo_directory=stereo_directory\n",
    ")\n",
    "processing_parameters_dict = processing_parameters.from_log_files()\n",
    "\n",
    "print(f\"Processed on: {processing_parameters_dict['processing_timestamp']}\\n\")\n",
    "\n",
    "print(f\"Reference DEM: {processing_parameters_dict['reference_dem']}\\n\")\n",
    "\n",
    "print(f\"Bundle adjustment ({processing_parameters_dict['bundle_adjust_run_time']}):\\n\")\n",
    "print(processing_parameters_dict[\"bundle_adjust\"])\n",
    "\n",
    "print(f\"\\nStereo ({processing_parameters_dict['stereo_run_time']}):\\n\")\n",
    "print(processing_parameters_dict[\"stereo\"])\n",
    "\n",
    "print(f\"\\nPoint2dem ({processing_parameters_dict['point2dem_run_time']}):\\n\")\n",
    "print(processing_parameters_dict[\"point2dem\"])"
   ]
  },
  {
   "cell_type": "markdown",
   "metadata": {},
   "source": [
    "### Scene Plots"
   ]
  },
  {
   "cell_type": "code",
   "execution_count": 5,
   "metadata": {},
   "outputs": [],
   "source": [
    "from asp_plot.scenes import ScenePlotter"
   ]
  },
  {
   "cell_type": "code",
   "execution_count": null,
   "metadata": {},
   "outputs": [
    {
     "name": "stderr",
     "output_type": "stream",
     "text": [
      "WARNING:asp_plot.utils:Could not find ('*.[Xx][Mm][Ll]',) in /Users/ben/Dropbox/UW_Shean/asp_plot-test_data/docs_examples/docs_sect_4_1_lunar_LRO_NAC/LRONAC_example. Some plots may be missing.\n"
     ]
    },
    {
     "ename": "TypeError",
     "evalue": "'NoneType' object is not iterable",
     "output_type": "error",
     "traceback": [
      "\u001b[31m---------------------------------------------------------------------------\u001b[39m",
      "\u001b[31mTypeError\u001b[39m                                 Traceback (most recent call last)",
      "\u001b[36mCell\u001b[39m\u001b[36m \u001b[39m\u001b[32mIn[6]\u001b[39m\u001b[32m, line 7\u001b[39m\n\u001b[32m      1\u001b[39m plotter = ScenePlotter(\n\u001b[32m      2\u001b[39m   directory,\n\u001b[32m      3\u001b[39m   stereo_directory,\n\u001b[32m      4\u001b[39m   title=\u001b[33m\"\u001b[39m\u001b[33mScenes\u001b[39m\u001b[33m\"\u001b[39m\n\u001b[32m      5\u001b[39m )\n\u001b[32m----> \u001b[39m\u001b[32m7\u001b[39m \u001b[43mplotter\u001b[49m\u001b[43m.\u001b[49m\u001b[43mplot_orthos\u001b[49m\u001b[43m(\u001b[49m\u001b[43m)\u001b[49m\n",
      "\u001b[36mFile \u001b[39m\u001b[32m~/Desktop/uw-github/asp_plot/asp_plot/scenes.py:98\u001b[39m, in \u001b[36mScenePlotter.plot_orthos\u001b[39m\u001b[34m(self, save_dir, fig_fn)\u001b[39m\n\u001b[32m     71\u001b[39m \u001b[38;5;28;01mdef\u001b[39;00m\u001b[38;5;250m \u001b[39m\u001b[34mplot_orthos\u001b[39m(\u001b[38;5;28mself\u001b[39m, save_dir=\u001b[38;5;28;01mNone\u001b[39;00m, fig_fn=\u001b[38;5;28;01mNone\u001b[39;00m):\n\u001b[32m     72\u001b[39m \u001b[38;5;250m    \u001b[39m\u001b[33;03m\"\"\"\u001b[39;00m\n\u001b[32m     73\u001b[39m \u001b[33;03m    Plot the left and right orthorectified images side by side.\u001b[39;00m\n\u001b[32m     74\u001b[39m \n\u001b[32m   (...)\u001b[39m\u001b[32m     96\u001b[39m \u001b[33;03m    and ground sample distance, obtained from the stereopair metadata.\u001b[39;00m\n\u001b[32m     97\u001b[39m \u001b[33;03m    \"\"\"\u001b[39;00m\n\u001b[32m---> \u001b[39m\u001b[32m98\u001b[39m     p = \u001b[43mStereopairMetadataParser\u001b[49m\u001b[43m(\u001b[49m\u001b[38;5;28;43mself\u001b[39;49m\u001b[43m.\u001b[49m\u001b[43mdirectory\u001b[49m\u001b[43m)\u001b[49m.get_pair_dict()\n\u001b[32m    100\u001b[39m     fig, axa = plt.subplots(\u001b[32m1\u001b[39m, \u001b[32m2\u001b[39m, figsize=(\u001b[32m10\u001b[39m, \u001b[32m5\u001b[39m), dpi=\u001b[32m300\u001b[39m)\n\u001b[32m    101\u001b[39m     fig.suptitle(\u001b[38;5;28mself\u001b[39m.title, size=\u001b[32m10\u001b[39m)\n",
      "\u001b[36mFile \u001b[39m\u001b[32m~/Desktop/uw-github/asp_plot/asp_plot/stereopair_metadata_parser.py:63\u001b[39m, in \u001b[36mStereopairMetadataParser.__init__\u001b[39m\u001b[34m(self, directory)\u001b[39m\n\u001b[32m     59\u001b[39m \u001b[38;5;28mself\u001b[39m.image_list = glob_file(\u001b[38;5;28mself\u001b[39m.directory, \u001b[33m\"\u001b[39m\u001b[33m*.[Xx][Mm][Ll]\u001b[39m\u001b[33m\"\u001b[39m, all_files=\u001b[38;5;28;01mTrue\u001b[39;00m)\n\u001b[32m     61\u001b[39m \u001b[38;5;66;03m# Drop potential *ortho*.xml files from image_list\u001b[39;00m\n\u001b[32m     62\u001b[39m \u001b[38;5;28mself\u001b[39m.image_list = \u001b[43m[\u001b[49m\n\u001b[32m---> \u001b[39m\u001b[32m63\u001b[39m \u001b[43m    \u001b[49m\u001b[43mfile\u001b[49m\u001b[43m \u001b[49m\u001b[38;5;28;43;01mfor\u001b[39;49;00m\u001b[43m \u001b[49m\u001b[43mfile\u001b[49m\u001b[43m \u001b[49m\u001b[38;5;129;43;01min\u001b[39;49;00m\u001b[43m \u001b[49m\u001b[38;5;28;43mself\u001b[39;49m\u001b[43m.\u001b[49m\u001b[43mimage_list\u001b[49m\u001b[43m \u001b[49m\u001b[38;5;28;43;01mif\u001b[39;49;00m\u001b[43m \u001b[49m\u001b[38;5;129;43;01mnot\u001b[39;49;00m\u001b[43m \u001b[49m\u001b[43mre\u001b[49m\u001b[43m.\u001b[49m\u001b[43msearch\u001b[49m\u001b[43m(\u001b[49m\u001b[33;43mr\u001b[39;49m\u001b[33;43m\"\u001b[39;49m\u001b[33;43m.*ortho.*\u001b[39;49m\u001b[33;43m\\\u001b[39;49m\u001b[33;43m.xml\u001b[39;49m\u001b[33;43m\"\u001b[39;49m\u001b[43m,\u001b[49m\u001b[43m \u001b[49m\u001b[43mfile\u001b[49m\u001b[43m)\u001b[49m\n\u001b[32m     64\u001b[39m \u001b[43m\u001b[49m\u001b[43m]\u001b[49m\n\u001b[32m     66\u001b[39m \u001b[38;5;28;01mif\u001b[39;00m \u001b[38;5;129;01mnot\u001b[39;00m \u001b[38;5;28mself\u001b[39m.image_list:\n\u001b[32m     67\u001b[39m     \u001b[38;5;28;01mraise\u001b[39;00m \u001b[38;5;167;01mValueError\u001b[39;00m(\n\u001b[32m     68\u001b[39m         \u001b[33m\"\u001b[39m\u001b[38;5;130;01m\\n\u001b[39;00m\u001b[38;5;130;01m\\n\u001b[39;00m\u001b[33mMissing XML camera files in directory. Cannot extract metadata without these.\u001b[39m\u001b[38;5;130;01m\\n\u001b[39;00m\u001b[38;5;130;01m\\n\u001b[39;00m\u001b[33m\"\u001b[39m\n\u001b[32m     69\u001b[39m     )\n",
      "\u001b[31mTypeError\u001b[39m: 'NoneType' object is not iterable"
     ]
    }
   ],
   "source": [
    "plotter = ScenePlotter(\n",
    "  directory,\n",
    "  stereo_directory,\n",
    "  title=\"Scenes\"\n",
    ")"
   ]
  },
  {
   "cell_type": "code",
   "execution_count": null,
   "metadata": {},
   "outputs": [],
   "source": []
  },
  {
   "cell_type": "code",
   "execution_count": null,
   "metadata": {},
   "outputs": [],
   "source": [
    "plotter.plot_orthos()"
   ]
  }
 ],
 "metadata": {
  "kernelspec": {
   "display_name": "asp_plot",
   "language": "python",
   "name": "python3"
  },
  "language_info": {
   "codemirror_mode": {
    "name": "ipython",
    "version": 3
   },
   "file_extension": ".py",
   "mimetype": "text/x-python",
   "name": "python",
   "nbconvert_exporter": "python",
   "pygments_lexer": "ipython3",
   "version": "3.13.7"
  }
 },
 "nbformat": 4,
 "nbformat_minor": 2
}
