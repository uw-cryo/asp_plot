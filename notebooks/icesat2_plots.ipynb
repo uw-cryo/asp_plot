{
 "cells": [
  {
   "cell_type": "code",
   "execution_count": 1,
   "metadata": {},
   "outputs": [],
   "source": [
    "import glob\n",
    "from asp_plot.icesat2 import Icesat2"
   ]
  },
  {
   "cell_type": "code",
   "execution_count": 2,
   "metadata": {},
   "outputs": [],
   "source": [
    "dem_fn = glob.glob(\"/Users/ben/Dropbox/UW_Shean/WV/2022/WV03_20220417_1040010074793300_1040010075633C00/stereo*/*DEM_1m.tif\")[0]\n",
    "\n",
    "geojson_fn = \"/Users/ben/Dropbox/UW_Shean/WV/2022/utqiagvik_wv_2022_sliderule_poly.geojson\""
   ]
  },
  {
   "cell_type": "code",
   "execution_count": 3,
   "metadata": {},
   "outputs": [],
   "source": [
    "icesat2 = Icesat2(dem_fn=dem_fn, geojson_fn=geojson_fn)"
   ]
  },
  {
   "cell_type": "code",
   "execution_count": 4,
   "metadata": {},
   "outputs": [
    {
     "data": {
      "text/plain": [
       "[{'lon': -156.27875181715967, 'lat': 71.23928395454953},\n",
       " {'lon': -156.25426170470448, 'lat': 71.41276421658509},\n",
       " {'lon': -156.9626248894057, 'lat': 71.42170678237126},\n",
       " {'lon': -156.98080923231944, 'lat': 71.24813787781376},\n",
       " {'lon': -156.27875181715967, 'lat': 71.23928395454953}]"
      ]
     },
     "execution_count": 4,
     "metadata": {},
     "output_type": "execute_result"
    }
   ],
   "source": [
    "icesat2.pull_sliderule_data()"
   ]
  }
 ],
 "metadata": {
  "kernelspec": {
   "display_name": "asp_plot",
   "language": "python",
   "name": "python3"
  },
  "language_info": {
   "codemirror_mode": {
    "name": "ipython",
    "version": 3
   },
   "file_extension": ".py",
   "mimetype": "text/x-python",
   "name": "python",
   "nbconvert_exporter": "python",
   "pygments_lexer": "ipython3",
   "version": "3.12.3"
  }
 },
 "nbformat": 4,
 "nbformat_minor": 2
}
