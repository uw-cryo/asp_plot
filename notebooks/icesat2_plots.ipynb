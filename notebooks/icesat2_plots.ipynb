{
 "cells": [
  {
   "cell_type": "code",
   "execution_count": 3,
   "metadata": {},
   "outputs": [],
   "source": [
    "import os\n",
    "import glob\n",
    "import contextily as ctx\n",
    "from asp_plot.icesat2 import ICESat2"
   ]
  },
  {
   "cell_type": "code",
   "execution_count": 5,
   "metadata": {},
   "outputs": [],
   "source": [
    "directory = \"/Users/ben/Dropbox/UW_Shean/WV/2022/WV03_20220417_1040010074793300_1040010075633C00\"\n",
    "\n",
    "dem_fn = glob.glob(os.path.join(directory, \"stereo*/*DEM_1m.tif\"))[0]\n",
    "\n",
    "geojson_fn = \"/Users/ben/Dropbox/UW_Shean/WV/2022/utqiagvik_wv_2022_sliderule_poly.geojson\"\n",
    "\n",
    "# atl06_fn = \"/Users/ben/Dropbox/UW_Shean/ICESat/icesat2_atl06_sr_10mRes_utqiagvik_WorldCover_water_crop_MayJune_allTime.parquet\"\n",
    "\n",
    "icesat_directory = os.path.join(directory, \"icesat_data\")\n",
    "os.makedirs(icesat_directory, exist_ok=True)\n",
    "\n",
    "plots_directory = os.path.join(directory, \"asp_plots\")\n",
    "os.makedirs(plots_directory, exist_ok=True)\n",
    "\n",
    "map_crs = \"EPSG:32604\"\n",
    "\n",
    "ctx_kwargs = {\n",
    "    \"crs\": map_crs,\n",
    "    \"source\": ctx.providers.Esri.WorldImagery,\n",
    "    \"attribution_size\": 0,\n",
    "    \"alpha\": 0.5,\n",
    "}"
   ]
  },
  {
   "cell_type": "code",
   "execution_count": 7,
   "metadata": {},
   "outputs": [],
   "source": [
    "icesat2 = ICESat2(dem_fn=dem_fn, geojson_fn=geojson_fn)"
   ]
  },
  {
   "cell_type": "code",
   "execution_count": 8,
   "metadata": {},
   "outputs": [
    {
     "name": "stdout",
     "output_type": "stream",
     "text": [
      "\n",
      "ICESat-2 ATL06 request processing\n",
      "\n"
     ]
    }
   ],
   "source": [
    "atl06 = icesat2.pull_atl06_data()\n",
    "atl06.head()"
   ]
  }
 ],
 "metadata": {
  "kernelspec": {
   "display_name": "asp_plot",
   "language": "python",
   "name": "python3"
  },
  "language_info": {
   "codemirror_mode": {
    "name": "ipython",
    "version": 3
   },
   "file_extension": ".py",
   "mimetype": "text/x-python",
   "name": "python",
   "nbconvert_exporter": "python",
   "pygments_lexer": "ipython3",
   "version": "3.12.3"
  }
 },
 "nbformat": 4,
 "nbformat_minor": 2
}
