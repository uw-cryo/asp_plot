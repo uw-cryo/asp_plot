{
 "cells": [
  {
   "cell_type": "code",
   "execution_count": 12,
   "metadata": {},
   "outputs": [],
   "source": [
    "import os\n",
    "import glob\n",
    "import geopandas as gpd\n",
    "from asp_plot.jitter import read_positions_rotations_from_file"
   ]
  },
  {
   "cell_type": "code",
   "execution_count": 13,
   "metadata": {},
   "outputs": [],
   "source": [
    "before1 = \"../tests/test_data/jitter/csm-10300100A0D00200.r100.adjusted_state.json\"\n",
    "before2 = \"../tests/test_data/jitter/csm-10300100A15E3900.r100.adjusted_state.json\"\n",
    "after1 = \"../tests/test_data/jitter/jitter_solved_csm-10300100A0D00200.r100.adjusted_state.json\"\n",
    "after2 = \"../tests/test_data/jitter/jitter_solved_csm-10300100A15E3900.r100.adjusted_state.json\""
   ]
  },
  {
   "cell_type": "code",
   "execution_count": 14,
   "metadata": {},
   "outputs": [],
   "source": [
    "positions, rotations = read_positions_rotations_from_file(before1)"
   ]
  },
  {
   "cell_type": "code",
   "execution_count": null,
   "metadata": {},
   "outputs": [],
   "source": []
  },
  {
   "cell_type": "code",
   "execution_count": 7,
   "metadata": {},
   "outputs": [
    {
     "data": {
      "text/plain": [
       "1790"
      ]
     },
     "execution_count": 7,
     "metadata": {},
     "output_type": "execute_result"
    }
   ],
   "source": [
    "len(rotations)"
   ]
  },
  {
   "cell_type": "code",
   "execution_count": 10,
   "metadata": {},
   "outputs": [
    {
     "data": {
      "text/plain": [
       "array([[-0.02051122,  0.99354149, -0.11160013],\n",
       "       [-0.90913149, -0.06498039, -0.41140914],\n",
       "       [-0.41600387,  0.09302069,  0.90459269]])"
      ]
     },
     "execution_count": 10,
     "metadata": {},
     "output_type": "execute_result"
    }
   ],
   "source": [
    "rotations[0]"
   ]
  }
 ],
 "metadata": {
  "kernelspec": {
   "display_name": "asp_plot",
   "language": "python",
   "name": "python3"
  },
  "language_info": {
   "codemirror_mode": {
    "name": "ipython",
    "version": 3
   },
   "file_extension": ".py",
   "mimetype": "text/x-python",
   "name": "python",
   "nbconvert_exporter": "python",
   "pygments_lexer": "ipython3",
   "version": "3.12.3"
  }
 },
 "nbformat": 4,
 "nbformat_minor": 2
}
