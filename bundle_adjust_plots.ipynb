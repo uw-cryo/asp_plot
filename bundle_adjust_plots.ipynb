{
 "cells": [
  {
   "cell_type": "markdown",
   "id": "6cec1b1f-30b5-454e-9ecf-49f595031970",
   "metadata": {},
   "source": [
    "# ASP Bundle Adjust Plotting\n",
    "## Examples for BlackSky Easton Glacier test case (n=20)\n",
    "David Shean  \n",
    "12/24/22"
   ]
  },
  {
   "cell_type": "code",
   "execution_count": null,
   "id": "29b52eb2-3adc-47dc-a762-f86e1523051c",
   "metadata": {},
   "outputs": [],
   "source": [
    "import numpy as np\n",
    "import pandas as pd\n",
    "import geopandas as gpd\n",
    "import matplotlib.pyplot as plt\n",
    "import matplotlib.colors\n",
    "import contextily as cx"
   ]
  },
  {
   "cell_type": "code",
   "execution_count": null,
   "id": "2a46f3ea-6933-4b8e-87c2-b287d4588d74",
   "metadata": {},
   "outputs": [],
   "source": [
    "topdir = '/Users/dshean/scr/BlackSky/EastonGlacier_20220918-20221012/non-ortho'"
   ]
  },
  {
   "cell_type": "code",
   "execution_count": null,
   "id": "73793896-84b6-436f-a071-9a93ba1353fc",
   "metadata": {},
   "outputs": [],
   "source": [
    "cd $topdir"
   ]
  },
  {
   "cell_type": "code",
   "execution_count": null,
   "id": "cf3b7668-02ba-4444-8d0c-72391e449423",
   "metadata": {},
   "outputs": [],
   "source": [
    "#ba_prefix = 'ba_all/ba_all'\n",
    "ba_prefix = 'ba_all/ba_all_tri_weight'"
   ]
  },
  {
   "cell_type": "code",
   "execution_count": null,
   "id": "517c9a1d-0df6-4318-9d85-bcc3071dee2c",
   "metadata": {},
   "outputs": [],
   "source": [
    "map_crs = 'EPSG:32610'"
   ]
  },
  {
   "cell_type": "markdown",
   "id": "5125a65f-b7f5-49e8-81b1-c8f7b13677e5",
   "metadata": {},
   "source": [
    "## Plot camera positions"
   ]
  },
  {
   "cell_type": "code",
   "execution_count": null,
   "id": "411c82c8-e588-499c-81c7-fabe938c3e1d",
   "metadata": {},
   "outputs": [],
   "source": [
    "def read_cameras(csv_fn):\n",
    "    cam_cols=['input_cam_file','x','y','z','r11','r12','r13','r21','r22','r23','r31','r32','r33']\n",
    "    cam_df = pd.read_csv(csv_fn, header=0, names=cam_cols, index_col='input_cam_file')\n",
    "    global_id = cam_df.index.to_series().str.split('-', expand=True)[1].astype('int') - 100\n",
    "    cam_df['global_id'] = global_id\n",
    "    cam_gdf = gpd.GeoDataFrame(cam_df, geometry=gpd.points_from_xy(cam_df['x'], cam_df['y'], cam_df['z'], crs='EPSG:4978'))\n",
    "    return cam_gdf"
   ]
  },
  {
   "cell_type": "code",
   "execution_count": null,
   "id": "6f48e134-3ee1-4fc3-9fd2-b75128babf88",
   "metadata": {},
   "outputs": [],
   "source": [
    "cam_init_csv = ba_prefix+'-initial-cameras.csv'\n",
    "cam_final_csv = ba_prefix+'-final-cameras.csv'"
   ]
  },
  {
   "cell_type": "code",
   "execution_count": null,
   "id": "64bd1b75-2c68-4f33-991b-92fc73c48c6d",
   "metadata": {},
   "outputs": [],
   "source": [
    "cam_init_gdf = read_cameras(cam_init_csv)\n",
    "cam_final_gdf = read_cameras(cam_final_csv)"
   ]
  },
  {
   "cell_type": "code",
   "execution_count": null,
   "id": "def9f157-56fc-4c53-aed8-593500597472",
   "metadata": {
    "tags": []
   },
   "outputs": [],
   "source": [
    "cam_delta = cam_init_gdf[['x','y','z']] - cam_final_gdf[['x','y','z']]\n",
    "cam_final_gdf['diff_m'] = np.sqrt(np.square(cam_delta).sum(axis=1))"
   ]
  },
  {
   "cell_type": "code",
   "execution_count": null,
   "id": "862825fc-424f-4521-a896-6606fa53711f",
   "metadata": {},
   "outputs": [],
   "source": [
    "#For some reason, this doesn't yield same results as above\n",
    "cam_final_gdf['diff_m_2'] = cam_final_gdf.distance(cam_init_gdf)"
   ]
  },
  {
   "cell_type": "code",
   "execution_count": null,
   "id": "1eb02f23-ee78-45cf-9f72-2ffb530a9475",
   "metadata": {},
   "outputs": [],
   "source": [
    "#cam_init_idx = cam_init['input_cam_file'].str.split('/', expand=True)"
   ]
  },
  {
   "cell_type": "code",
   "execution_count": null,
   "id": "a94fc8b8-593d-4596-a70b-44afe9669a79",
   "metadata": {
    "tags": []
   },
   "outputs": [],
   "source": [
    "ax = cam_final_gdf.to_crs(map_crs).plot(column='global_id', cmap='tab20', legend='True', legend_kwds={'label': \"BlackSky Satellite ID\"})\n",
    "#cx.add_basemap(ax, crs=map_crs)"
   ]
  },
  {
   "cell_type": "code",
   "execution_count": null,
   "id": "7089614c-b3e0-4a77-bc81-5bbbf9d2e383",
   "metadata": {},
   "outputs": [],
   "source": [
    "plot_kw = {'markersize':5}\n",
    "ax = cam_init_gdf.to_crs(map_crs).plot(color='r', label='Initial', **plot_kw)\n",
    "cam_final_gdf.to_crs(map_crs).plot(ax=ax, color='b', label='Final', **plot_kw)\n",
    "ax.legend()\n",
    "#cx.add_basemap(ax, crs=map_crs)\n",
    "#ax.set_aspect('equal')"
   ]
  },
  {
   "cell_type": "code",
   "execution_count": null,
   "id": "011aad64-fe5b-4c11-9f5b-fa1e3b6b20c1",
   "metadata": {},
   "outputs": [],
   "source": [
    "ax = cam_final_gdf.to_crs(map_crs).plot(column='diff_m', norm=matplotlib.colors.LogNorm(), legend='True', legend_kwds={'label': \"Position Difference (m)\"})\n",
    "#cx.add_basemap(ax, crs=map_crs)"
   ]
  },
  {
   "cell_type": "markdown",
   "id": "da8fa377-6a3f-4b49-a275-160b7a809292",
   "metadata": {},
   "source": [
    "### Compute rotation delta magnitude"
   ]
  },
  {
   "cell_type": "code",
   "execution_count": null,
   "id": "058210d6-92c6-4439-8f80-f5925bdd80f7",
   "metadata": {},
   "outputs": [],
   "source": [
    "from scipy.spatial.transform import Rotation as R"
   ]
  },
  {
   "cell_type": "code",
   "execution_count": null,
   "id": "eef0e580-59e2-4443-a756-094f0cdf6e4c",
   "metadata": {},
   "outputs": [],
   "source": [
    "R_init = R.from_matrix(cam_init_gdf[['r11','r12','r13','r21','r22','r23','r31','r32','r33']].values.reshape((cam_init_gdf.shape[0],3,3)))\n",
    "R_final = R.from_matrix(cam_final_gdf[['r11','r12','r13','r21','r22','r23','r31','r32','r33']].values.reshape((cam_final_gdf.shape[0],3,3)))"
   ]
  },
  {
   "cell_type": "code",
   "execution_count": null,
   "id": "a494f4fe-e77c-48dc-ba43-b97e6e5dbab4",
   "metadata": {},
   "outputs": [],
   "source": [
    "#R_init.as_euler('ZYX', degrees=True)"
   ]
  },
  {
   "cell_type": "code",
   "execution_count": null,
   "id": "891b1a35-6106-4fad-ad53-e8eeb8a64206",
   "metadata": {},
   "outputs": [],
   "source": [
    "#R_final.as_euler('ZYX', degrees=True)"
   ]
  },
  {
   "cell_type": "code",
   "execution_count": null,
   "id": "efe71561-3e51-49c8-bbda-57c0b4d46dae",
   "metadata": {},
   "outputs": [],
   "source": [
    "eul_diff = (R_init.as_euler('ZYX', degrees=True) - R_final.as_euler('ZYX', degrees=True))"
   ]
  },
  {
   "cell_type": "markdown",
   "id": "62d1f3b5-e15c-4693-8b15-cfca5a97520b",
   "metadata": {},
   "source": [
    "#### Testing Rotation Distance\n",
    "http://www.boris-belousov.net/2016/12/01/quat-dist/ "
   ]
  },
  {
   "cell_type": "code",
   "execution_count": null,
   "id": "745689b2-9a76-4de8-94c5-74421bf005ba",
   "metadata": {},
   "outputs": [],
   "source": [
    "R_final.as_matrix()[1]"
   ]
  },
  {
   "cell_type": "code",
   "execution_count": null,
   "id": "fd662bd3-0eb0-4f55-b761-a96686aa1361",
   "metadata": {},
   "outputs": [],
   "source": [
    "R_final.as_matrix()[1].T"
   ]
  },
  {
   "cell_type": "code",
   "execution_count": null,
   "id": "197b0846-9541-4a5a-8ddd-4eec51997302",
   "metadata": {},
   "outputs": [],
   "source": [
    "np.transpose(R_final.as_matrix(), axes=(0,2,1))[1]"
   ]
  },
  {
   "cell_type": "code",
   "execution_count": null,
   "id": "91d85327-391c-459c-be46-a52789f0b0dd",
   "metadata": {},
   "outputs": [],
   "source": [
    "R_diff = R_init.as_matrix() * np.transpose(R_final.as_matrix(), axes=(0,2,1))"
   ]
  },
  {
   "cell_type": "code",
   "execution_count": null,
   "id": "f4551094-2739-4806-b384-e8bbe0877e31",
   "metadata": {},
   "outputs": [],
   "source": [
    "R_diff[1]"
   ]
  },
  {
   "cell_type": "code",
   "execution_count": null,
   "id": "4eadf724-b5aa-471d-9565-26daae006a99",
   "metadata": {},
   "outputs": [],
   "source": [
    "np.trace(R_diff, axis1=1, axis2=2)"
   ]
  },
  {
   "cell_type": "code",
   "execution_count": null,
   "id": "053021e7-c620-45e4-a28e-33abfbead724",
   "metadata": {},
   "outputs": [],
   "source": [
    "np.radians((np.trace(R_diff, axis1=1, axis2=2) - 1)/2)"
   ]
  },
  {
   "cell_type": "code",
   "execution_count": null,
   "id": "3cf0e3d1-9337-4886-88d3-de8346b6e96b",
   "metadata": {},
   "outputs": [],
   "source": [
    "np.degrees(np.arccos(np.radians((np.trace(R_diff, axis1=1, axis2=2) - 1)/2)))"
   ]
  },
  {
   "cell_type": "code",
   "execution_count": null,
   "id": "1e665c7c-de86-4b1f-9348-cd2477a87413",
   "metadata": {},
   "outputs": [],
   "source": [
    "cam_final_gdf['diff_deg'] = np.sqrt(np.square(eul_diff).sum(axis=1))"
   ]
  },
  {
   "cell_type": "code",
   "execution_count": null,
   "id": "79e5c33a-5a48-48d7-ac6b-afd518885624",
   "metadata": {
    "tags": []
   },
   "outputs": [],
   "source": [
    "ax = cam_final_gdf.to_crs(map_crs).plot(column='diff_deg', legend='True', legend_kwds={'label': \"Orientation Difference (deg)\"})\n",
    "#cx.add_basemap(ax, crs=map_crs)"
   ]
  },
  {
   "cell_type": "code",
   "execution_count": null,
   "id": "da2a0416-5cee-4d5d-890c-3f78da21d909",
   "metadata": {},
   "outputs": [],
   "source": [
    "def diff_plot():\n",
    "    f, axa = plt.subplots(1,2, figsize=(10,5), sharex=True, sharey=True)\n",
    "    norm=matplotlib.colors.LogNorm()\n",
    "    #plot_kw = {'norm':norm, 's':1, 'legend':True, 'legend_kwds':{'label': col}}\n",
    "    cam_final_gdf.to_crs(map_crs).plot(ax=axa[0], column='diff_m', legend='True', legend_kwds={'label': \"Position Difference (m)\"})\n",
    "    #cx.add_basemap(ax=axa[1], crs=map_crs, attribution_size=0)\n",
    "    cam_final_gdf.to_crs(map_crs).plot(ax=axa[1], column='diff_deg', legend='True', legend_kwds={'label': \"Orientation Difference (deg)\"})\n",
    "    #cx.add_basemap(ax=axa[0], crs=map_crs, attribution_size=0)\n",
    "    axa[0].set_title(f'Position Difference (m)')\n",
    "    axa[1].set_title(f'Orientation Difference (deg)')\n",
    "    plt.tight_layout()"
   ]
  },
  {
   "cell_type": "code",
   "execution_count": null,
   "id": "c9d9c7a3-0028-499e-a8e3-39103d1b3259",
   "metadata": {},
   "outputs": [],
   "source": [
    "diff_plot()"
   ]
  },
  {
   "cell_type": "code",
   "execution_count": null,
   "id": "206dafb6-281f-4280-82ae-ac9b5e58f11d",
   "metadata": {},
   "outputs": [],
   "source": [
    "cam_final_gdf.iloc[0]"
   ]
  },
  {
   "cell_type": "markdown",
   "id": "727bd053-c0d6-451c-bb74-e8b202e393b8",
   "metadata": {},
   "source": [
    "## Residuals"
   ]
  },
  {
   "cell_type": "code",
   "execution_count": null,
   "id": "2b4c7d96-2ae2-440e-969e-941c0cb86a66",
   "metadata": {},
   "outputs": [],
   "source": [
    "def read_residuals(csv_fn):\n",
    "    resid_cols=['lon', 'lat', 'height_above_datum', 'mean_residual', 'num_observations']\n",
    "    resid_df = pd.read_csv(csv_fn, skiprows=2, names=resid_cols)\n",
    "    resid_df['from_DEM'] = resid_df['num_observations'].str.contains('# from DEM')\n",
    "    resid_df['num_observations'] = resid_df['num_observations'].str.split('#', expand=True)[0].astype(int)\n",
    "    resid_gdf = gpd.GeoDataFrame(resid_df, geometry=gpd.points_from_xy(resid_df['lon'], resid_df['lat'], crs='EPSG:4326'))\n",
    "    return resid_gdf"
   ]
  },
  {
   "cell_type": "code",
   "execution_count": null,
   "id": "a59715d9-70b4-4356-8cb9-7c5d07763cd8",
   "metadata": {},
   "outputs": [],
   "source": [
    "resid_init_csv = ba_prefix+'-initial_residuals_pointmap.csv'\n",
    "resid_final_csv = ba_prefix+'-final_residuals_pointmap.csv'"
   ]
  },
  {
   "cell_type": "code",
   "execution_count": null,
   "id": "003a4824-173b-4a98-9751-db7550fca8fc",
   "metadata": {},
   "outputs": [],
   "source": [
    "resid_init = read_residuals(resid_init_csv)\n",
    "resid_final = read_residuals(resid_final_csv)"
   ]
  },
  {
   "cell_type": "code",
   "execution_count": null,
   "id": "fed1e4b0-8867-4f9b-a030-524e79b59c99",
   "metadata": {},
   "outputs": [],
   "source": [
    "resid_init.describe()"
   ]
  },
  {
   "cell_type": "code",
   "execution_count": null,
   "id": "09d54b44-62c3-4aa8-ba1d-1be3665ed9ad",
   "metadata": {},
   "outputs": [],
   "source": [
    "resid_final.describe()"
   ]
  },
  {
   "cell_type": "code",
   "execution_count": null,
   "id": "c1049daf-7364-412e-a399-d9964dfb2c0d",
   "metadata": {},
   "outputs": [],
   "source": [
    "def resid_plot(resid_init, resid_final, col='mean_residual', clip_final=True, lognorm=False):\n",
    "    f, axa = plt.subplots(1,2, figsize=(10,5), sharex=True, sharey=True)\n",
    "    vmin = min(resid_init[col].min(), resid_final[col].min())\n",
    "    vmax = max(resid_init[col].max(), resid_final[col].max())\n",
    "    norm = matplotlib.colors.Normalize(vmin=vmin, vmax=vmax)\n",
    "    if lognorm:\n",
    "        norm = matplotlib.colors.LogNorm(vmin=vmin, vmax=vmax)\n",
    "    plot_kw = {'norm':norm, 's':1, 'legend':True, 'legend_kwds':{'label': col}}\n",
    "    resid_final.sort_values(by=col).to_crs(map_crs).plot(ax=axa[1], column=col, **plot_kw)\n",
    "    #cx.add_basemap(ax=axa[1], crs=map_crs, attribution_size=0)\n",
    "    if clip_final:\n",
    "        axa[0].autoscale(False)\n",
    "    resid_init.sort_values(by=col).to_crs(map_crs).plot(ax=axa[0], column=col, **plot_kw)\n",
    "    #cx.add_basemap(ax=axa[0], crs=map_crs, attribution_size=0)\n",
    "    axa[0].set_title(f'Initial Residuals (n={resid_init.shape[0]})')\n",
    "    axa[1].set_title(f'Final Residuals (n={resid_final.shape[0]})')\n",
    "    plt.tight_layout()"
   ]
  },
  {
   "cell_type": "code",
   "execution_count": null,
   "id": "95f66a44-17f0-4239-a2a7-7a09ed6a7c06",
   "metadata": {},
   "outputs": [],
   "source": [
    "resid_plot(resid_init, resid_final, col='mean_residual', lognorm=True)"
   ]
  },
  {
   "cell_type": "code",
   "execution_count": null,
   "id": "d2431cb2-e903-480c-8fe7-901ecd915c19",
   "metadata": {},
   "outputs": [],
   "source": [
    "resid_plot(resid_init, resid_final, col='num_observations')"
   ]
  },
  {
   "cell_type": "markdown",
   "id": "d16343d0-c524-467e-be7e-027f0fbb08dd",
   "metadata": {},
   "source": [
    "## Consider points used during `--heights-from-DEM`"
   ]
  },
  {
   "cell_type": "code",
   "execution_count": null,
   "id": "08dc5984-9897-4f33-81d8-71dd76be1b19",
   "metadata": {},
   "outputs": [],
   "source": [
    "idx = resid_init['from_DEM']"
   ]
  },
  {
   "cell_type": "code",
   "execution_count": null,
   "id": "c8fe2fe9-93be-4ec3-835f-de269b8ab84f",
   "metadata": {},
   "outputs": [],
   "source": [
    "resid_plot(resid_init[idx], resid_final[idx], col='mean_residual', lognorm=True)"
   ]
  },
  {
   "cell_type": "code",
   "execution_count": null,
   "id": "d401505a-a8d2-482f-bb8a-86da3c987bc2",
   "metadata": {},
   "outputs": [],
   "source": [
    "resid_plot(resid_init[~idx], resid_final[~idx], col='mean_residual', lognorm=True)"
   ]
  },
  {
   "cell_type": "markdown",
   "id": "6e673a86-093f-4a71-a394-21c3839ea584",
   "metadata": {},
   "source": [
    "## Mapproject Residuals"
   ]
  },
  {
   "cell_type": "code",
   "execution_count": null,
   "id": "17c4085a-9634-40ec-af54-bbe150e02f82",
   "metadata": {},
   "outputs": [],
   "source": [
    "def read_mapproj_match_offset(csv_fn):\n",
    "    resid_cols=['lon', 'lat', 'height_above_datum', 'mapproj_ip_dist_meters']\n",
    "    resid_df = pd.read_csv(csv_fn, skiprows=2, names=resid_cols)\n",
    "    resid_gdf = gpd.GeoDataFrame(resid_df, geometry=gpd.points_from_xy(resid_df['lon'], resid_df['lat'], crs='EPSG:4326'))\n",
    "    return resid_gdf"
   ]
  },
  {
   "cell_type": "code",
   "execution_count": null,
   "id": "76581b07-6db3-4c1e-9352-d30b3c307013",
   "metadata": {},
   "outputs": [],
   "source": [
    "mapproj_match_offset_txt = ba_prefix+'-mapproj_match_offsets.txt'"
   ]
  },
  {
   "cell_type": "code",
   "execution_count": null,
   "id": "508c1374-e1f3-4593-b18e-f56160808769",
   "metadata": {},
   "outputs": [],
   "source": [
    "mapproj_match_offset = read_mapproj_match_offset(mapproj_match_offset_txt)"
   ]
  },
  {
   "cell_type": "code",
   "execution_count": null,
   "id": "a3fc0938-ca16-46cc-8464-fdc04cb590e9",
   "metadata": {},
   "outputs": [],
   "source": [
    "mapproj_match_offset.describe()"
   ]
  },
  {
   "cell_type": "code",
   "execution_count": null,
   "id": "361b42b9-9cc0-480d-b8ce-c01fdea062e7",
   "metadata": {},
   "outputs": [],
   "source": [
    "col='mapproj_ip_dist_meters'"
   ]
  },
  {
   "cell_type": "code",
   "execution_count": null,
   "id": "eff6ff1b-61b9-4287-b30e-ecbc4c79a0ac",
   "metadata": {},
   "outputs": [],
   "source": [
    "mapproj_match_offset.sort_values(by=col).to_crs(map_crs).plot(column=col, norm=matplotlib.colors.LogNorm(), legend=True)"
   ]
  },
  {
   "cell_type": "code",
   "execution_count": null,
   "id": "63a2b47a-60ac-45cf-a749-8af202968abf",
   "metadata": {},
   "outputs": [],
   "source": [
    "mapproj_match_offset.sort_values(by=col, ascending=False).to_crs(map_crs).plot(column=col, norm=matplotlib.colors.LogNorm(), legend=True)"
   ]
  },
  {
   "cell_type": "markdown",
   "id": "9f86021a-ffab-4d05-991e-b5c90f1a0d56",
   "metadata": {},
   "source": [
    "## Geoplot tests for KDE"
   ]
  },
  {
   "cell_type": "code",
   "execution_count": null,
   "id": "b7dec928-278d-44c3-92ac-01a1c6d80a4d",
   "metadata": {},
   "outputs": [],
   "source": [
    "import geoplot as gplt\n",
    "import geoplot.crs as gcrs"
   ]
  },
  {
   "cell_type": "code",
   "execution_count": null,
   "id": "56279590-707d-475f-9194-3f00c1659918",
   "metadata": {},
   "outputs": [],
   "source": [
    "ax = gplt.pointplot(mapproj_match_offset, projection=gcrs.AlbersEqualArea(), s=1)\n",
    "gplt.kdeplot(mapproj_match_offset[['mapproj_ip_dist_meters','geometry']], projection=gcrs.AlbersEqualArea(), ax=ax)"
   ]
  },
  {
   "cell_type": "code",
   "execution_count": null,
   "id": "958ead24-13eb-4971-abfb-348b455d3529",
   "metadata": {},
   "outputs": [],
   "source": [
    "gplt.kdeplot?"
   ]
  },
  {
   "cell_type": "markdown",
   "id": "7ef02c35-7c49-43d3-863a-c9d8d381349d",
   "metadata": {},
   "source": [
    "## Convergence angles"
   ]
  },
  {
   "cell_type": "code",
   "execution_count": null,
   "id": "26e99e01-e2e0-4f35-a2c1-640bb5928fd5",
   "metadata": {},
   "outputs": [],
   "source": [
    "conv_txt = ba_prefix+'-convergence_angles.txt'"
   ]
  },
  {
   "cell_type": "code",
   "execution_count": null,
   "id": "a4b556ef-5446-48c9-bc94-72ea09376f59",
   "metadata": {},
   "outputs": [],
   "source": [
    "conv_cols = ['img1','img2','conv_25','conv_50','conv_75','num_angles']\n",
    "conv = pd.read_csv(conv_txt, delimiter=' ', skiprows=1, header=0, names=conv_cols, index_col=False)\n",
    "conv_valid = conv[conv['num_angles'] != 0]"
   ]
  },
  {
   "cell_type": "code",
   "execution_count": null,
   "id": "0108ed4d-301b-41ef-90f0-a9c00f3e88eb",
   "metadata": {},
   "outputs": [],
   "source": [
    "conv_valid.reset_index().plot.scatter(x='index', y='conv_50', c='num_angles', cmap='inferno')"
   ]
  },
  {
   "cell_type": "code",
   "execution_count": null,
   "id": "7f5a9043-8aad-464d-bc64-5354c9ac3a04",
   "metadata": {},
   "outputs": [],
   "source": [
    "f, ax = plt.subplots()\n",
    "m = ax.scatter(conv_valid.index, conv_valid['conv_50'], c=conv_valid['num_angles'], norm=matplotlib.colors.LogNorm())\n",
    "plt.colorbar(m)"
   ]
  }
 ],
 "metadata": {
  "kernelspec": {
   "display_name": "Python 3 (ipykernel)",
   "language": "python",
   "name": "python3"
  },
  "language_info": {
   "codemirror_mode": {
    "name": "ipython",
    "version": 3
   },
   "file_extension": ".py",
   "mimetype": "text/x-python",
   "name": "python",
   "nbconvert_exporter": "python",
   "pygments_lexer": "ipython3",
   "version": "3.10.6"
  }
 },
 "nbformat": 4,
 "nbformat_minor": 5
}
