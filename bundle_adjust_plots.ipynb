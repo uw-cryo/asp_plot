{
 "cells": [
  {
   "cell_type": "markdown",
   "id": "6cec1b1f-30b5-454e-9ecf-49f595031970",
   "metadata": {},
   "source": [
    "# ASP Bundle Adjust Plotting\n",
    "## Examples for BlackSky Easton Glacier test case (n=20)\n",
    "David Shean  \n",
    "12/24/22"
   ]
  },
  {
   "cell_type": "code",
   "execution_count": null,
   "id": "29b52eb2-3adc-47dc-a762-f86e1523051c",
   "metadata": {},
   "outputs": [],
   "source": [
    "import os\n",
    "import numpy as np\n",
    "import pandas as pd\n",
    "import geopandas as gpd\n",
    "import matplotlib.pyplot as plt\n",
    "import matplotlib.colors\n",
    "import contextily as ctx"
   ]
  },
  {
   "cell_type": "code",
   "execution_count": null,
   "id": "522d5b5f-1b71-4f08-9967-d0d2e01982c3",
   "metadata": {},
   "outputs": [],
   "source": [
    "from asp_plot_util import *"
   ]
  },
  {
   "cell_type": "code",
   "execution_count": null,
   "id": "f9e3bb45-5f37-40f9-8bf8-9dee21132a65",
   "metadata": {},
   "outputs": [],
   "source": [
    "#topdir = '/Users/dshean/scr/BlackSky/DAN_TUM_multiple_opportunities/Tuolumne'\n",
    "topdir = '/Users/dshean/scr/BlackSky/DAN_TUM_multiple_opportunities/Dana'"
   ]
  },
  {
   "cell_type": "code",
   "execution_count": null,
   "id": "2a46f3ea-6933-4b8e-87c2-b287d4588d74",
   "metadata": {},
   "outputs": [],
   "source": [
    "topdir = '/Users/dshean/scr/BlackSky/EastonGlacier_20220918-20221012/non-ortho'\n",
    "topdir = '/Users/dshean/scr/BlackSky/EastonGlacier_20220918-20221012/non-ortho_20230102'"
   ]
  },
  {
   "cell_type": "code",
   "execution_count": null,
   "id": "8decfc18-44af-4624-9176-ad1d9c6dd3db",
   "metadata": {},
   "outputs": [],
   "source": [
    "topdir = '/Users/dshean/scr/BlackSky/Utqiagvik_20220425_stereo/BSG-STEREO-102-20220425-215106-22900060-stereo_reorder_20230119/'"
   ]
  },
  {
   "cell_type": "code",
   "execution_count": null,
   "id": "efcef52d-4f58-4a39-b0f3-e6b86657b335",
   "metadata": {},
   "outputs": [],
   "source": [
    "topdir = '/Users/dshean/scr/hma_glof_samples_for_asp_plot'"
   ]
  },
  {
   "cell_type": "code",
   "execution_count": null,
   "id": "15790a6c-b466-438a-8ba5-88c21a79e095",
   "metadata": {},
   "outputs": [],
   "source": [
    "#topdir = '/Users/dshean/scr/BlackSky/GM_SnowOff_202208'"
   ]
  },
  {
   "cell_type": "code",
   "execution_count": null,
   "id": "73793896-84b6-436f-a071-9a93ba1353fc",
   "metadata": {},
   "outputs": [],
   "source": [
    "cd $topdir"
   ]
  },
  {
   "cell_type": "code",
   "execution_count": null,
   "id": "cf3b7668-02ba-4444-8d0c-72391e449423",
   "metadata": {},
   "outputs": [],
   "source": [
    "#Old filenames - Easton testcase\n",
    "#ba_prefix = 'ba_all/ba_all'\n",
    "#ba_prefix = 'ba_all/ba_all_tri_weight'\n",
    "#ba_prefix = 'ba_all/ba_all_tri_weight_pc_align'\n",
    "#ba_prefix=\"ba_all_nadirpinhole/ba_all_nadirpinhole_tri_weight\"\n",
    "#ba_prefix=\"ba_all_maskref/ba_all_maskref_tri_weight\"\n",
    "#ba_prefix=\"ba_all_maskref_nadirpinhole/ba_all_maskref_nadirpinhole_tri_weight\"\n",
    "ba_prefix=\"ba_all_maskref/ba_all_maskref_tri_weight_pc_align\"\n",
    "#ba_prefix=\"ba_all_maskref_rpc/ba_all_maskref_rpc_tri_weight\""
   ]
  },
  {
   "cell_type": "code",
   "execution_count": null,
   "id": "770d5f97-46ab-4ae2-91b7-8d715394a44f",
   "metadata": {},
   "outputs": [],
   "source": [
    "#New filenames\n",
    "ba_prefix=\"ba/ba_all_rpc\"\n",
    "ba_prefix=\"ba/ba_all_nadirpinhole\""
   ]
  },
  {
   "cell_type": "code",
   "execution_count": null,
   "id": "03c7094f-7887-4870-8a4d-a25cd94ae958",
   "metadata": {},
   "outputs": [],
   "source": [
    "ba_prefix=\"ba/ba_nadirpinhole_hfdem\"\n",
    "#ba_brefix=\"ba/ba_ip2k_nadirpinhole\""
   ]
  },
  {
   "cell_type": "code",
   "execution_count": null,
   "id": "0661c87b-6c1a-4761-b967-13b485051854",
   "metadata": {},
   "outputs": [],
   "source": [
    "ba_prefix = 'ba/ba_csm'"
   ]
  },
  {
   "cell_type": "code",
   "execution_count": null,
   "id": "517c9a1d-0df6-4318-9d85-bcc3071dee2c",
   "metadata": {},
   "outputs": [],
   "source": [
    "map_crs = 'EPSG:32610'\n",
    "#map_crs = 'EPSG:32604'"
   ]
  },
  {
   "cell_type": "code",
   "execution_count": null,
   "id": "4959cb3a-16f0-4bb5-a350-caff336756d0",
   "metadata": {},
   "outputs": [],
   "source": [
    "map_crs = 'EPSG:32645'\n",
    "#map_crs = 'EPSG:32604'"
   ]
  },
  {
   "cell_type": "code",
   "execution_count": null,
   "id": "1802d341-930e-448d-b128-7381ccc52b8d",
   "metadata": {},
   "outputs": [],
   "source": [
    "refdem = 'COP30_lzw-adj_proj.tif'\n",
    "#Masked version\n",
    "#refdem = 'COP30_lzw-adj_proj_ref.tif'"
   ]
  },
  {
   "cell_type": "code",
   "execution_count": null,
   "id": "09dad1c1-be21-4de7-a792-deae88438c45",
   "metadata": {},
   "outputs": [],
   "source": [
    "refdem = 'GongbatongshaTsho_COP30_lzw-adj_proj.tif'"
   ]
  },
  {
   "cell_type": "code",
   "execution_count": null,
   "id": "894c75f4-122b-4243-b17c-d31019eb9454",
   "metadata": {},
   "outputs": [],
   "source": [
    "source = ctx.providers.Esri.WorldImagery\n",
    "#source = ctx.providers.Stamen.Terrain"
   ]
  },
  {
   "cell_type": "code",
   "execution_count": null,
   "id": "b01d3666-421d-4f54-ab0d-620dd0feaa30",
   "metadata": {},
   "outputs": [],
   "source": [
    "ctx_kwargs = {'crs':map_crs, 'source':source, 'attribution_size':0, 'alpha':0.5}"
   ]
  },
  {
   "cell_type": "code",
   "execution_count": null,
   "id": "5e1b6f87-81b7-4865-9f95-1cef51604b86",
   "metadata": {},
   "outputs": [],
   "source": [
    "#Use to compare multi-stage bundle_adjust results\n",
    "two_stage = False"
   ]
  },
  {
   "cell_type": "markdown",
   "id": "727bd053-c0d6-451c-bb74-e8b202e393b8",
   "metadata": {},
   "source": [
    "## Residuals"
   ]
  },
  {
   "cell_type": "code",
   "execution_count": null,
   "id": "2b4c7d96-2ae2-440e-969e-941c0cb86a66",
   "metadata": {},
   "outputs": [],
   "source": [
    "def read_residuals(csv_fn):\n",
    "    resid_cols=['lon', 'lat', 'height_above_datum', 'mean_residual', 'num_observations']\n",
    "    resid_df = pd.read_csv(csv_fn, skiprows=2, names=resid_cols)\n",
    "    #Need the astype('str') to handle cases where column has dtype of int (without the # from DEM appended to some rows)\n",
    "    resid_df['from_DEM'] = resid_df['num_observations'].astype('str').str.contains('# from DEM')\n",
    "    resid_df['num_observations'] = resid_df['num_observations'].astype('str').str.split('#', expand=True)[0].astype(int)\n",
    "    resid_gdf = gpd.GeoDataFrame(resid_df, geometry=gpd.points_from_xy(resid_df['lon'], resid_df['lat'], crs='EPSG:4326'))\n",
    "    return resid_gdf"
   ]
  },
  {
   "cell_type": "code",
   "execution_count": null,
   "id": "a59715d9-70b4-4356-8cb9-7c5d07763cd8",
   "metadata": {},
   "outputs": [],
   "source": [
    "resid_init_csv = ba_prefix+'-initial_residuals_pointmap.csv'\n",
    "resid_final_csv = ba_prefix+'-final_residuals_pointmap.csv'"
   ]
  },
  {
   "cell_type": "code",
   "execution_count": null,
   "id": "3e92995e-f534-4343-bfd9-9f6f3adbbf92",
   "metadata": {},
   "outputs": [],
   "source": [
    "#This compares the initial bundle_adjust output with post-pc_align bundle_adjust output\n",
    "if two_stage:\n",
    "    resid_init_csv = ba_prefix+'-final_residuals_pointmap.csv'\n",
    "    resid_final_csv = ba_prefix+'_pc_align-final_residuals_pointmap.csv'"
   ]
  },
  {
   "cell_type": "code",
   "execution_count": null,
   "id": "003a4824-173b-4a98-9751-db7550fca8fc",
   "metadata": {},
   "outputs": [],
   "source": [
    "resid_init = read_residuals(resid_init_csv)\n",
    "resid_final = read_residuals(resid_final_csv)"
   ]
  },
  {
   "cell_type": "code",
   "execution_count": null,
   "id": "250db2df-fb7c-4a8b-bf7f-5eaa34682937",
   "metadata": {},
   "outputs": [],
   "source": [
    "#Computer center for map plots later\n",
    "centroid_gdf = resid_final.to_crs(map_crs).dissolve().centroid"
   ]
  },
  {
   "cell_type": "code",
   "execution_count": null,
   "id": "fed1e4b0-8867-4f9b-a030-524e79b59c99",
   "metadata": {},
   "outputs": [],
   "source": [
    "resid_init.describe()"
   ]
  },
  {
   "cell_type": "code",
   "execution_count": null,
   "id": "09d54b44-62c3-4aa8-ba1d-1be3665ed9ad",
   "metadata": {},
   "outputs": [],
   "source": [
    "resid_final.describe()"
   ]
  },
  {
   "cell_type": "code",
   "execution_count": null,
   "id": "c1049daf-7364-412e-a399-d9964dfb2c0d",
   "metadata": {},
   "outputs": [],
   "source": [
    "def resid_plot(init, final, col='mean_residual', clip_final=True, lognorm=False, clim=None, cmap='inferno'):\n",
    "    f, axa = plt.subplots(1,2, figsize=(10,3), sharex=True, sharey=True)\n",
    "    if clim is None:\n",
    "        clim_init = get_clim(init[col], perc=(0,98))\n",
    "        clim_final = get_clim(final[col], perc=(0,98))\n",
    "        vmin = min(clim_init[0], clim_final[0])\n",
    "        vmax = max(clim_init[1], clim_final[1])\n",
    "    else:\n",
    "        vmin, vmax = clim\n",
    "    print(vmin, vmax)\n",
    "    norm = matplotlib.colors.Normalize(vmin=vmin, vmax=vmax)\n",
    "    if lognorm:\n",
    "        norm = matplotlib.colors.LogNorm(vmin=vmin, vmax=vmax)\n",
    "    plot_kw = {'cmap':cmap, 'norm':norm, 's':1, 'legend':True, 'legend_kwds':{'label': col}}\n",
    "    final.sort_values(by=col).to_crs(map_crs).plot(ax=axa[1], column=col, **plot_kw)\n",
    "    ctx.add_basemap(ax=axa[1], **ctx_kwargs)\n",
    "    if clip_final:\n",
    "        axa[0].autoscale(False)\n",
    "    init.sort_values(by=col).to_crs(map_crs).plot(ax=axa[0], column=col, **plot_kw)\n",
    "    ctx.add_basemap(ax=axa[0], **ctx_kwargs)\n",
    "    axa[0].set_title(f'Initial Residuals (n={init.shape[0]})')\n",
    "    axa[1].set_title(f'Final Residuals (n={final.shape[0]})')\n",
    "    plt.tight_layout()"
   ]
  },
  {
   "cell_type": "code",
   "execution_count": null,
   "id": "1f94f358-a15b-451d-8065-1ed2c7babf55",
   "metadata": {},
   "outputs": [],
   "source": [
    "resid_plot(resid_init, resid_final, col='mean_residual', lognorm=False)"
   ]
  },
  {
   "cell_type": "code",
   "execution_count": null,
   "id": "95f66a44-17f0-4239-a2a7-7a09ed6a7c06",
   "metadata": {},
   "outputs": [],
   "source": [
    "resid_plot(resid_init, resid_final, col='mean_residual', lognorm=True)"
   ]
  },
  {
   "cell_type": "code",
   "execution_count": null,
   "id": "d2431cb2-e903-480c-8fe7-901ecd915c19",
   "metadata": {},
   "outputs": [],
   "source": [
    "resid_plot(resid_init, resid_final, col='num_observations')"
   ]
  },
  {
   "cell_type": "markdown",
   "id": "d16343d0-c524-467e-be7e-027f0fbb08dd",
   "metadata": {},
   "source": [
    "## Isolate points used during `--heights-from-DEM`\n",
    "Most relelvant when refDEM was masked over changing surfaces"
   ]
  },
  {
   "cell_type": "code",
   "execution_count": null,
   "id": "3b692449-8eb4-4598-a7d7-30bfcd71dded",
   "metadata": {},
   "outputs": [],
   "source": [
    "if 'from_DEM' in resid_init.columns:\n",
    "    idx1 = resid_init['from_DEM']\n",
    "    idx2 = resid_final['from_DEM']"
   ]
  },
  {
   "cell_type": "code",
   "execution_count": null,
   "id": "f8078946-b1d6-4b90-8ffd-ba40bc5cf986",
   "metadata": {},
   "outputs": [],
   "source": [
    "if idx1.any() and idx2.any():\n",
    "    resid_plot(resid_init[idx1], resid_final[idx2], col='mean_residual', lognorm=True)"
   ]
  },
  {
   "cell_type": "code",
   "execution_count": null,
   "id": "d401505a-a8d2-482f-bb8a-86da3c987bc2",
   "metadata": {},
   "outputs": [],
   "source": [
    "if ~idx1.any() and ~idx2.any():\n",
    "    resid_plot(resid_init[~idx1], resid_final[~idx2], col='mean_residual', lognorm=True)"
   ]
  },
  {
   "cell_type": "markdown",
   "id": "1562b71a-afb1-4ba7-bf42-a42895359c89",
   "metadata": {},
   "source": [
    "## geodiff output"
   ]
  },
  {
   "cell_type": "code",
   "execution_count": null,
   "id": "ec965f34-1915-45d3-8a4a-875d1d8dd24c",
   "metadata": {},
   "outputs": [],
   "source": [
    "def read_geodiff(csv_fn):\n",
    "    resid_cols=['lon', 'lat', 'diff']\n",
    "    resid_df = pd.read_csv(csv_fn, comment='#', names=resid_cols)\n",
    "    resid_gdf = gpd.GeoDataFrame(resid_df, geometry=gpd.points_from_xy(resid_df['lon'], resid_df['lat'], crs='EPSG:4326'))\n",
    "    return resid_gdf"
   ]
  },
  {
   "cell_type": "code",
   "execution_count": null,
   "id": "3f856fb4-4ced-4021-b982-404075a852d4",
   "metadata": {},
   "outputs": [],
   "source": [
    "#geodiff_csv = ba_prefix+f'-final_residuals_pointmap__{os.path.splitext(refdem)[0]}-diff.csv'\n",
    "geodiff_init_csv = ba_prefix+'-initial_residuals_pointmap-diff.csv'\n",
    "geodiff_final_csv = ba_prefix+'-final_residuals_pointmap-diff.csv'"
   ]
  },
  {
   "cell_type": "code",
   "execution_count": null,
   "id": "c4204466-ef5e-4f94-9cf4-b813c5b653a3",
   "metadata": {},
   "outputs": [],
   "source": [
    "#This compares the initial bundle_adjust output with post-pc_align bundle_adjust output\n",
    "if two_stage:\n",
    "    geodiff_init_csv = ba_prefix+'-final_residuals_pointmap-diff.csv'\n",
    "    resid_final_csv = ba_prefix+'_pc_align-final_residuals_pointmap-diff.csv'"
   ]
  },
  {
   "cell_type": "code",
   "execution_count": null,
   "id": "dc10aaa0-289d-4d05-9753-a1eea0362f92",
   "metadata": {},
   "outputs": [],
   "source": [
    "if os.path.exists(geodiff_init_csv) and os.path.exists(geodiff_final_csv):\n",
    "    geodiff_init = read_geodiff(geodiff_init_csv)\n",
    "    geodiff_final = read_geodiff(geodiff_final_csv)\n",
    "    geodiff_init.describe()   \n",
    "    geodiff_final.describe()\n",
    "    resid_plot(geodiff_init, geodiff_final, col='diff', clim=(-15, 15), cmap='RdYlBu')"
   ]
  },
  {
   "cell_type": "markdown",
   "id": "6e673a86-093f-4a71-a394-21c3839ea584",
   "metadata": {},
   "source": [
    "## Mapproject Residuals"
   ]
  },
  {
   "cell_type": "code",
   "execution_count": null,
   "id": "17c4085a-9634-40ec-af54-bbe150e02f82",
   "metadata": {},
   "outputs": [],
   "source": [
    "def read_mapproj_match_offset(csv_fn):\n",
    "    resid_cols=['lon', 'lat', 'height_above_datum', 'mapproj_ip_dist_meters']\n",
    "    resid_df = pd.read_csv(csv_fn, skiprows=2, names=resid_cols)\n",
    "    resid_gdf = gpd.GeoDataFrame(resid_df, geometry=gpd.points_from_xy(resid_df['lon'], resid_df['lat'], crs='EPSG:4326'))\n",
    "    return resid_gdf"
   ]
  },
  {
   "cell_type": "code",
   "execution_count": null,
   "id": "76581b07-6db3-4c1e-9352-d30b3c307013",
   "metadata": {},
   "outputs": [],
   "source": [
    "mapproj_match_offset_txt = ba_prefix+'-mapproj_match_offsets.txt'"
   ]
  },
  {
   "cell_type": "code",
   "execution_count": null,
   "id": "f33d7a44-743f-4577-abad-cb36ab700cd1",
   "metadata": {},
   "outputs": [],
   "source": [
    "if os.path.exists(mapproj_match_offset_txt):\n",
    "    mapproj_match_offset = read_mapproj_match_offset(mapproj_match_offset_txt)\n",
    "    mapproj_match_offset.describe()\n",
    "    col='mapproj_ip_dist_meters'\n"
   ]
  },
  {
   "cell_type": "code",
   "execution_count": null,
   "id": "fdd01ae9-8698-4b47-89fe-9069dd9cb28c",
   "metadata": {},
   "outputs": [],
   "source": [
    "mapproj_match_offset.sort_values(by=col, ascending=True).to_crs(map_crs).plot(column=col, legend=True)\n",
    "mapproj_match_offset.sort_values(by=col, ascending=False).to_crs(map_crs).plot(column=col, legend=True)"
   ]
  },
  {
   "cell_type": "code",
   "execution_count": null,
   "id": "eff6ff1b-61b9-4287-b30e-ecbc4c79a0ac",
   "metadata": {},
   "outputs": [],
   "source": [
    "mapproj_match_offset.sort_values(by=col, ascending=True).to_crs(map_crs).plot(column=col, norm=matplotlib.colors.LogNorm(), legend=True)\n",
    "mapproj_match_offset.sort_values(by=col, ascending=False).to_crs(map_crs).plot(column=col, norm=matplotlib.colors.LogNorm(), legend=True)"
   ]
  },
  {
   "cell_type": "code",
   "execution_count": null,
   "id": "7a93699a-a05f-48b1-8ebf-3c7702ac359d",
   "metadata": {},
   "outputs": [],
   "source": [
    "resid_plot(mapproj_match_offset, mapproj_match_offset, col='mapproj_ip_dist_meters', lognorm=False)"
   ]
  },
  {
   "cell_type": "code",
   "execution_count": null,
   "id": "c0b82427-30f5-4f13-bbc6-99707c992ad2",
   "metadata": {},
   "outputs": [],
   "source": [
    "resid_plot(mapproj_match_offset, mapproj_match_offset, col='mapproj_ip_dist_meters', lognorm=True)"
   ]
  },
  {
   "cell_type": "markdown",
   "id": "601006fd-9b80-4dd3-9f23-efb79de73e1e",
   "metadata": {},
   "source": [
    "## Plot camera positions"
   ]
  },
  {
   "cell_type": "code",
   "execution_count": null,
   "id": "411c82c8-e588-499c-81c7-fabe938c3e1d",
   "metadata": {},
   "outputs": [],
   "source": [
    "def read_cameras(csv_fn):\n",
    "    cam_cols=['input_cam_file','x','y','z','r11','r12','r13','r21','r22','r23','r31','r32','r33']\n",
    "    cam_df = pd.read_csv(csv_fn, header=0, names=cam_cols, index_col='input_cam_file')\n",
    "    global_id = cam_df.index.to_series().str.split('BSG', expand=True)[1].str.split('-', expand=True)[1].astype('int') - 100\n",
    "    cam_df['global_id'] = global_id\n",
    "    cam_gdf = gpd.GeoDataFrame(cam_df, geometry=gpd.points_from_xy(cam_df['x'], cam_df['y'], cam_df['z'], crs='EPSG:4978'))\n",
    "    return cam_gdf"
   ]
  },
  {
   "cell_type": "code",
   "execution_count": null,
   "id": "6f48e134-3ee1-4fc3-9fd2-b75128babf88",
   "metadata": {},
   "outputs": [],
   "source": [
    "cam_init_csv = ba_prefix+'-initial-cameras.csv'\n",
    "cam_final_csv = ba_prefix+'-final-cameras.csv'"
   ]
  },
  {
   "cell_type": "code",
   "execution_count": null,
   "id": "beb6a519-2915-4318-a58e-217d2eb2e121",
   "metadata": {},
   "outputs": [],
   "source": [
    "#This compares the initial bundle_adjust output with post-pc_align bundle_adjust output\n",
    "if two_stage:\n",
    "    cam_init_csv = ba_prefix+'-final-cameras.csv'\n",
    "    cam_final_csv = ba_prefix+'_pc_align-final-cameras.csv'"
   ]
  },
  {
   "cell_type": "code",
   "execution_count": null,
   "id": "64bd1b75-2c68-4f33-991b-92fc73c48c6d",
   "metadata": {},
   "outputs": [],
   "source": [
    "cam_init_gdf = read_cameras(cam_init_csv)\n",
    "cam_final_gdf = read_cameras(cam_final_csv)"
   ]
  },
  {
   "cell_type": "code",
   "execution_count": null,
   "id": "def9f157-56fc-4c53-aed8-593500597472",
   "metadata": {
    "tags": []
   },
   "outputs": [],
   "source": [
    "cam_delta = cam_init_gdf[['x','y','z']] - cam_final_gdf[['x','y','z']]\n",
    "#The .values here drops the indices (needed when tsai filenames are different at different stages)\n",
    "if two_stage:\n",
    "    cam_delta = cam_init_gdf[['x','y','z']].values - cam_final_gdf[['x','y','z']].values\n",
    "cam_final_gdf['diff_m'] = np.sqrt(np.square(cam_delta).sum(axis=1))"
   ]
  },
  {
   "cell_type": "code",
   "execution_count": null,
   "id": "862825fc-424f-4521-a896-6606fa53711f",
   "metadata": {},
   "outputs": [],
   "source": [
    "#For some reason, this doesn't yield same results as above\n",
    "cam_final_gdf['diff_m_2'] = cam_final_gdf.distance(cam_init_gdf) #align=True"
   ]
  },
  {
   "cell_type": "code",
   "execution_count": null,
   "id": "1eb02f23-ee78-45cf-9f72-2ffb530a9475",
   "metadata": {},
   "outputs": [],
   "source": [
    "#cam_init_idx = cam_init['input_cam_file'].str.split('/', expand=True)"
   ]
  },
  {
   "cell_type": "markdown",
   "id": "fef4137a-18ac-4e1a-a0f9-14df909f45f9",
   "metadata": {},
   "source": [
    "### Determine relative local time and time offsets"
   ]
  },
  {
   "cell_type": "code",
   "execution_count": null,
   "id": "5e8619ea-4a1d-4390-a27a-d30a07f7d4b1",
   "metadata": {},
   "outputs": [],
   "source": [
    "temp = cam_final_gdf.index.to_series().str.split('BSG', expand=True)[1].str.split('-', expand=True).loc[:,2:3]\n",
    "cam_final_gdf['dt'] = pd.to_datetime(temp[2] + temp[3], utc=True)"
   ]
  },
  {
   "cell_type": "code",
   "execution_count": null,
   "id": "86951bc5-d892-495e-bc13-fadec3e60bfa",
   "metadata": {},
   "outputs": [],
   "source": [
    "min_dt_str = cam_final_gdf['dt'].min().strftime('%Y-%m-%d %H:%M')"
   ]
  },
  {
   "cell_type": "code",
   "execution_count": null,
   "id": "b9915f74-8b46-4782-a5d7-40a1b944c151",
   "metadata": {},
   "outputs": [],
   "source": [
    "cam_final_gdf['dt_local'] = cam_final_gdf['dt'].dt.tz_convert('America/Denver')"
   ]
  },
  {
   "cell_type": "code",
   "execution_count": null,
   "id": "71ea3765-4c6e-44af-890d-b8f896031481",
   "metadata": {},
   "outputs": [],
   "source": [
    "cam_final_gdf['dt_diff'] = cam_final_gdf['dt'] - cam_final_gdf['dt'].min()"
   ]
  },
  {
   "cell_type": "code",
   "execution_count": null,
   "id": "1fc471a5-eff3-40dd-a602-cbbc2b805b5a",
   "metadata": {},
   "outputs": [],
   "source": [
    "cam_final_gdf['time'] = cam_final_gdf['dt'].dt.time"
   ]
  },
  {
   "cell_type": "code",
   "execution_count": null,
   "id": "4fee6f28-da11-4932-a11d-b226d902d5d4",
   "metadata": {},
   "outputs": [],
   "source": [
    "cam_final_gdf['hr'] = ((cam_final_gdf['dt'] - cam_final_gdf['dt'].dt.normalize()) / pd.Timedelta('1 second')).astype(int) / 3600"
   ]
  },
  {
   "cell_type": "code",
   "execution_count": null,
   "id": "c542e658-73f3-4f5d-a660-0e1cb460de97",
   "metadata": {},
   "outputs": [],
   "source": [
    "cam_final_gdf['hr_local'] = ((cam_final_gdf['dt_local'] - cam_final_gdf['dt_local'].dt.normalize()) / pd.Timedelta('1 second')).astype(int) / 3600"
   ]
  },
  {
   "cell_type": "code",
   "execution_count": null,
   "id": "22df5464-787d-483d-a730-1ae20fced3bb",
   "metadata": {},
   "outputs": [],
   "source": [
    "#cam_final_gdf['time_diff'] = cam_final_gdf['time_diff'] - cam_final_gdf['time_diff'].min()"
   ]
  },
  {
   "cell_type": "code",
   "execution_count": null,
   "id": "d551224f-06d9-4789-b167-fdcea183d806",
   "metadata": {},
   "outputs": [],
   "source": [
    "cam_final_gdf['dt_diff_days'] = cam_final_gdf['dt_diff'].dt.total_seconds()/86400"
   ]
  },
  {
   "cell_type": "code",
   "execution_count": null,
   "id": "a562c1db-693b-4627-a61d-99cddad1fde5",
   "metadata": {},
   "outputs": [],
   "source": [
    "cam_final_gdf['mx'] = cam_final_gdf.to_crs(map_crs).geometry.x.values\n",
    "cam_final_gdf['my'] = cam_final_gdf.to_crs(map_crs).geometry.y.values"
   ]
  },
  {
   "cell_type": "code",
   "execution_count": null,
   "id": "db1cf9c5-0894-43d3-996f-3ca807084f76",
   "metadata": {},
   "outputs": [],
   "source": [
    "cam_final_gdf.describe()"
   ]
  },
  {
   "cell_type": "code",
   "execution_count": null,
   "id": "a652c5e9-48fd-4095-8eda-e12a4b06c191",
   "metadata": {},
   "outputs": [],
   "source": [
    "ax = cam_final_gdf.plot.scatter(x='mx', y='my', c='hr_local', s=36, cmap='twilight', edgecolor='k', vmin=0, vmax=24)\n",
    "centroid_gdf.plot(ax=ax, marker='*', color='w', edgecolor='k')\n",
    "ctx.add_basemap(ax, **ctx_kwargs)\n",
    "ax.set_title('Local time of acquisition')"
   ]
  },
  {
   "cell_type": "code",
   "execution_count": null,
   "id": "413bff0a-22f6-4353-bf98-e81566e83c2f",
   "metadata": {},
   "outputs": [],
   "source": [
    "ax = cam_final_gdf.plot.scatter(x='mx', y='my', c='dt_diff_days', s=36, cmap='inferno', edgecolor='k')\n",
    "centroid_gdf.plot(ax=ax, marker='*', color='w', edgecolor='k')\n",
    "ctx.add_basemap(ax, **ctx_kwargs)\n",
    "ax.set_title('Time offset relative to '+min_dt_str)"
   ]
  },
  {
   "cell_type": "code",
   "execution_count": null,
   "id": "8b3b3fea-f438-4a8e-a875-ea95f58edc14",
   "metadata": {},
   "outputs": [],
   "source": [
    "ax = cam_final_gdf.plot.scatter(x='mx', y='my', c='dt_diff', s=36, cmap='inferno', edgecolor='k')\n",
    "centroid_gdf.plot(ax=ax, marker='*', color='w', edgecolor='k')\n",
    "ctx.add_basemap(ax, **ctx_kwargs)"
   ]
  },
  {
   "cell_type": "code",
   "execution_count": null,
   "id": "631ce5af-841a-421f-9558-20c153b9e5e5",
   "metadata": {},
   "outputs": [],
   "source": [
    "ax = cam_final_gdf.plot.scatter(x='mx', y='my', c='dt', s=36, cmap='inferno', edgecolor='k')\n",
    "centroid_gdf.plot(ax=ax, marker='*', color='w', edgecolor='k')\n",
    "ctx.add_basemap(ax, **ctx_kwargs)"
   ]
  },
  {
   "cell_type": "code",
   "execution_count": null,
   "id": "57e89c9b-aa10-493b-a3c6-31f744e5b9ed",
   "metadata": {},
   "outputs": [],
   "source": [
    "ax = cam_final_gdf.to_crs(map_crs).plot(c=cam_final_gdf['dt'], cmap='inferno', legend='True', edgecolor='k', legend_kwds={'label': \"Acquisition Datetime\"})\n",
    "centroid_gdf.plot(ax=ax, marker='*', color='w', edgecolor='k')\n",
    "ctx.add_basemap(ax, **ctx_kwargs)"
   ]
  },
  {
   "cell_type": "code",
   "execution_count": null,
   "id": "1b19f817-e5d7-43e5-906c-6757019a6165",
   "metadata": {},
   "outputs": [],
   "source": [
    "ax = cam_final_gdf.to_crs(map_crs).plot(c=cam_final_gdf['dt'].dt.date, cmap='inferno', legend='True', edgecolor='k', legend_kwds={'label': \"Acquisition Datetime\"})\n",
    "centroid_gdf.plot(ax=ax, marker='*', color='w', edgecolor='k')\n",
    "ctx.add_basemap(ax, **ctx_kwargs)"
   ]
  },
  {
   "cell_type": "markdown",
   "id": "fcd0d59b-5430-4798-9f2a-560818b485ac",
   "metadata": {},
   "source": [
    "## Compare with TLE"
   ]
  },
  {
   "cell_type": "code",
   "execution_count": null,
   "id": "b222ab6b-1150-4405-b02a-3a8e0f25b70d",
   "metadata": {},
   "outputs": [],
   "source": [
    "tle_fn = 'test_tle_ecef_xyz.csv'\n",
    "tle_cols = ['tle_x', 'tle_y', 'tle_z']"
   ]
  },
  {
   "cell_type": "code",
   "execution_count": null,
   "id": "72da9246-e509-4a2c-8c14-1960848b9cec",
   "metadata": {},
   "outputs": [],
   "source": [
    "cam_df = pd.read_csv(tle_fn, index_col='img')\n",
    "cam_df = cam_df[cam_df.index.to_series().str.contains(\"pregeoreferenced\")==False]"
   ]
  },
  {
   "cell_type": "code",
   "execution_count": null,
   "id": "ff2f6245-4dd3-481d-a89b-0eee1ea80198",
   "metadata": {},
   "outputs": [],
   "source": [
    "cam_tle_delta = cam_final_gdf[['x','y','z']] - cam_df.values\n",
    "cam_final_gdf['tle_diff_m'] = np.sqrt(np.square(cam_tle_delta).sum(axis=1))"
   ]
  },
  {
   "cell_type": "code",
   "execution_count": null,
   "id": "bc6b7431-11f1-4be0-a2b8-bbb58b1c230c",
   "metadata": {},
   "outputs": [],
   "source": [
    "cam_gdf = gpd.GeoDataFrame(cam_df, geometry=gpd.points_from_xy(cam_df['ecef_x'], cam_df['ecef_y'], cam_df['ecef_z'], crs='EPSG:4978'))"
   ]
  },
  {
   "cell_type": "code",
   "execution_count": null,
   "id": "e52a9848-05b2-43d6-9b9a-c18e1905800a",
   "metadata": {},
   "outputs": [],
   "source": [
    "cam_gdf"
   ]
  },
  {
   "cell_type": "code",
   "execution_count": null,
   "id": "7b3febb9-1c64-4ec6-a1c7-d17478f30131",
   "metadata": {},
   "outputs": [],
   "source": [
    "#Do a proper join\n",
    "#cam_df.index.to_series().str.split('/', expand=True)[1].str.split('.', expand=True)[0].values"
   ]
  },
  {
   "cell_type": "code",
   "execution_count": null,
   "id": "47b306ba-c20b-464f-88e3-df09eb7e8476",
   "metadata": {
    "tags": []
   },
   "outputs": [],
   "source": [
    "cam_final_gdf['tle_diff_m']"
   ]
  },
  {
   "cell_type": "code",
   "execution_count": null,
   "id": "ddd66bf3-1852-4fa0-9a7e-a4c907adced9",
   "metadata": {},
   "outputs": [],
   "source": [
    "cam_tle_delta"
   ]
  },
  {
   "cell_type": "code",
   "execution_count": null,
   "id": "a2ef5fc0-6581-421c-a889-69b3b91214fa",
   "metadata": {},
   "outputs": [],
   "source": [
    "cam_final_gdf.head()"
   ]
  },
  {
   "cell_type": "code",
   "execution_count": null,
   "id": "532ad526-7a9a-4948-bac8-93664f1db592",
   "metadata": {},
   "outputs": [],
   "source": [
    "plot_kw = {'markersize':10}\n",
    "ax = cam_final_gdf.to_crs(map_crs).plot(color='b', label='Final', **plot_kw)\n",
    "cam_gdf.to_crs(map_crs).plot(ax=ax, color='r', label='TLE', **plot_kw)\n",
    "centroid_gdf.plot(ax=ax, marker='*', color='w', edgecolor='k')\n",
    "ax.legend()\n",
    "ctx.add_basemap(ax, **ctx_kwargs)\n",
    "#ax.set_aspect('equal')"
   ]
  },
  {
   "cell_type": "code",
   "execution_count": null,
   "id": "8c394fe8-b9bd-4f9c-9443-e0f60045b43a",
   "metadata": {},
   "outputs": [],
   "source": [
    "ax = cam_final_gdf.plot.scatter(x='mx', y='my', c='dt_diff_days', s=36, cmap='inferno', edgecolor='k')\n",
    "centroid_gdf.plot(ax=ax, marker='*', color='w', edgecolor='k')\n",
    "ctx.add_basemap(ax, **ctx_kwargs)\n",
    "ax.set_title('Time offset relative to '+min_dt_str)"
   ]
  },
  {
   "cell_type": "code",
   "execution_count": null,
   "id": "8bc77614-cdfe-4ae3-ac2d-f53cc21e9318",
   "metadata": {},
   "outputs": [],
   "source": []
  },
  {
   "cell_type": "code",
   "execution_count": null,
   "id": "16e2ea27-f18b-41b7-a273-5065883b5a00",
   "metadata": {},
   "outputs": [],
   "source": [
    "ax = cam_final_gdf.to_crs(map_crs).plot(vmin=0, vmax=20, column='global_id', cmap='tab20', legend='True', edgecolor='k', legend_kwds={'label': \"BlackSky Satellite ID\"})\n",
    "centroid_gdf.plot(ax=ax, marker='*', color='w', edgecolor='k')\n",
    "ctx.add_basemap(ax, **ctx_kwargs)"
   ]
  },
  {
   "cell_type": "code",
   "execution_count": null,
   "id": "7089614c-b3e0-4a77-bc81-5bbbf9d2e383",
   "metadata": {},
   "outputs": [],
   "source": [
    "plot_kw = {'markersize':10}\n",
    "ax = cam_init_gdf.to_crs(map_crs).plot(color='r', label='Initial', **plot_kw)\n",
    "cam_final_gdf.to_crs(map_crs).plot(ax=ax, color='b', label='Final', **plot_kw)\n",
    "centroid_gdf.plot(ax=ax, marker='*', color='w', edgecolor='k')\n",
    "ax.legend()\n",
    "ctx.add_basemap(ax, **ctx_kwargs)\n",
    "#ax.set_aspect('equal')"
   ]
  },
  {
   "cell_type": "code",
   "execution_count": null,
   "id": "011aad64-fe5b-4c11-9f5b-fa1e3b6b20c1",
   "metadata": {},
   "outputs": [],
   "source": [
    "#ax = cam_final_gdf.to_crs(map_crs).plot(column='diff_m', norm=matplotlib.colors.LogNorm(), legend='True', legend_kwds={'label': \"Position Difference (m)\"})\n",
    "#ax = cam_final_gdf.to_crs(map_crs).plot(column='diff_m_2', norm=matplotlib.colors.LogNorm(), legend='True', legend_kwds={'label': \"Position Difference (m)\"})\n",
    "#centroid_gdf.plot(ax=ax, marker='*', color='w', edgecolor='k')\n",
    "#ctx.add_basemap(ax, **ctx_kwargs)"
   ]
  },
  {
   "cell_type": "markdown",
   "id": "44876ecb-5d30-4e55-8adb-050719f72ed1",
   "metadata": {},
   "source": [
    "### Compute rotation delta"
   ]
  },
  {
   "cell_type": "code",
   "execution_count": null,
   "id": "058210d6-92c6-4439-8f80-f5925bdd80f7",
   "metadata": {},
   "outputs": [],
   "source": [
    "from scipy.spatial.transform import Rotation as R"
   ]
  },
  {
   "cell_type": "code",
   "execution_count": null,
   "id": "eef0e580-59e2-4443-a756-094f0cdf6e4c",
   "metadata": {},
   "outputs": [],
   "source": [
    "R_init = R.from_matrix(cam_init_gdf[['r11','r12','r13','r21','r22','r23','r31','r32','r33']].values.reshape((cam_init_gdf.shape[0],3,3)))\n",
    "R_final = R.from_matrix(cam_final_gdf[['r11','r12','r13','r21','r22','r23','r31','r32','r33']].values.reshape((cam_final_gdf.shape[0],3,3)))"
   ]
  },
  {
   "cell_type": "code",
   "execution_count": null,
   "id": "a494f4fe-e77c-48dc-ba43-b97e6e5dbab4",
   "metadata": {},
   "outputs": [],
   "source": [
    "#R_init.as_euler('ZYX', degrees=True)\n",
    "#R_final.as_euler('ZYX', degrees=True)"
   ]
  },
  {
   "cell_type": "code",
   "execution_count": null,
   "id": "efe71561-3e51-49c8-bbda-57c0b4d46dae",
   "metadata": {},
   "outputs": [],
   "source": [
    "eul_diff = (R_init.as_euler('ZYX', degrees=True) - R_final.as_euler('ZYX', degrees=True))"
   ]
  },
  {
   "cell_type": "code",
   "execution_count": null,
   "id": "1e665c7c-de86-4b1f-9348-cd2477a87413",
   "metadata": {},
   "outputs": [],
   "source": [
    "cam_final_gdf['diff_deg'] = np.sqrt(np.square(eul_diff).sum(axis=1))"
   ]
  },
  {
   "cell_type": "code",
   "execution_count": null,
   "id": "79e5c33a-5a48-48d7-ac6b-afd518885624",
   "metadata": {
    "tags": []
   },
   "outputs": [],
   "source": [
    "ax = cam_final_gdf.to_crs(map_crs).plot(column='diff_deg', legend='True', legend_kwds={'label': \"Orientation Difference (deg)\"})\n",
    "centroid_gdf.plot(ax=ax, marker='*', color='w', edgecolor='k')\n",
    "ctx.add_basemap(ax, **ctx_kwargs)"
   ]
  },
  {
   "cell_type": "code",
   "execution_count": null,
   "id": "da2a0416-5cee-4d5d-890c-3f78da21d909",
   "metadata": {},
   "outputs": [],
   "source": [
    "def cam_diff_plot(log=False):\n",
    "    f, axa = plt.subplots(1,2, figsize=(10,3), sharex=True, sharey=True)\n",
    "    norm=None\n",
    "    if log:\n",
    "        norm=matplotlib.colors.LogNorm()\n",
    "    #plot_kw = {'norm':norm, 's':1, 'legend':True, 'legend_kwds':{'label': col}}\n",
    "    cam_final_gdf.to_crs(map_crs).plot(ax=axa[0], norm=norm, column='diff_m', legend='True', legend_kwds={'label': \"Position Difference (m)\"})\n",
    "    centroid_gdf.plot(ax=axa[0], marker='*', color='w', edgecolor='k')\n",
    "    ctx.add_basemap(ax=axa[0], **ctx_kwargs)\n",
    "    if log:\n",
    "        norm=matplotlib.colors.LogNorm()\n",
    "    cam_final_gdf.to_crs(map_crs).plot(ax=axa[1], norm=norm, column='diff_deg', legend='True', legend_kwds={'label': \"Orientation Difference (deg)\"})\n",
    "    centroid_gdf.plot(ax=axa[1], marker='*', color='w', edgecolor='k')\n",
    "    ctx.add_basemap(ax=axa[1], **ctx_kwargs)\n",
    "    axa[0].set_title(f'Position Difference (m)')\n",
    "    axa[1].set_title(f'Orientation Difference (deg)')\n",
    "    plt.tight_layout()"
   ]
  },
  {
   "cell_type": "code",
   "execution_count": null,
   "id": "c9d9c7a3-0028-499e-a8e3-39103d1b3259",
   "metadata": {},
   "outputs": [],
   "source": [
    "cam_diff_plot()"
   ]
  },
  {
   "cell_type": "code",
   "execution_count": null,
   "id": "810468e8-be54-44ca-a979-def09c299874",
   "metadata": {},
   "outputs": [],
   "source": [
    "cam_diff_plot(log=True)"
   ]
  },
  {
   "cell_type": "markdown",
   "id": "9f86021a-ffab-4d05-991e-b5c90f1a0d56",
   "metadata": {},
   "source": [
    "## Geoplot tests for KDE"
   ]
  },
  {
   "cell_type": "code",
   "execution_count": null,
   "id": "b7dec928-278d-44c3-92ac-01a1c6d80a4d",
   "metadata": {},
   "outputs": [],
   "source": [
    "#import geoplot as gplt\n",
    "#import geoplot.crs as gcrs"
   ]
  },
  {
   "cell_type": "code",
   "execution_count": null,
   "id": "56279590-707d-475f-9194-3f00c1659918",
   "metadata": {},
   "outputs": [],
   "source": [
    "#ax = gplt.pointplot(mapproj_match_offset, projection=gcrs.AlbersEqualArea(), s=1)\n",
    "#gplt.kdeplot(mapproj_match_offset[['mapproj_ip_dist_meters','geometry']], projection=gcrs.AlbersEqualArea(), ax=ax)"
   ]
  },
  {
   "cell_type": "markdown",
   "id": "7ef02c35-7c49-43d3-863a-c9d8d381349d",
   "metadata": {},
   "source": [
    "## Convergence angles"
   ]
  },
  {
   "cell_type": "code",
   "execution_count": null,
   "id": "26e99e01-e2e0-4f35-a2c1-640bb5928fd5",
   "metadata": {},
   "outputs": [],
   "source": [
    "conv_txt = ba_prefix+'-convergence_angles.txt'"
   ]
  },
  {
   "cell_type": "code",
   "execution_count": null,
   "id": "a4b556ef-5446-48c9-bc94-72ea09376f59",
   "metadata": {},
   "outputs": [],
   "source": [
    "conv_cols = ['img1','img2','conv_25','conv_50','conv_75','num_angles']\n",
    "conv = pd.read_csv(conv_txt, delimiter=' ', skiprows=1, header=0, names=conv_cols, index_col=False)\n",
    "conv_valid = conv[conv['num_angles'] != 0]"
   ]
  },
  {
   "cell_type": "code",
   "execution_count": null,
   "id": "0108ed4d-301b-41ef-90f0-a9c00f3e88eb",
   "metadata": {},
   "outputs": [],
   "source": [
    "conv_valid.reset_index().plot.scatter(x='index', y='conv_50', c='num_angles', cmap='inferno')"
   ]
  },
  {
   "cell_type": "code",
   "execution_count": null,
   "id": "7f5a9043-8aad-464d-bc64-5354c9ac3a04",
   "metadata": {},
   "outputs": [],
   "source": [
    "f, ax = plt.subplots()\n",
    "m = ax.scatter(conv_valid.index, conv_valid['conv_50'], c=conv_valid['num_angles'], norm=matplotlib.colors.LogNorm())\n",
    "plt.colorbar(m)"
   ]
  },
  {
   "cell_type": "markdown",
   "id": "e12d936e-423d-4436-aede-0d158836c425",
   "metadata": {},
   "source": [
    "#### Testing Rotation Distance\n",
    "http://www.boris-belousov.net/2016/12/01/quat-dist/ "
   ]
  },
  {
   "cell_type": "code",
   "execution_count": null,
   "id": "745689b2-9a76-4de8-94c5-74421bf005ba",
   "metadata": {},
   "outputs": [],
   "source": [
    "R_final.as_matrix()[1]"
   ]
  },
  {
   "cell_type": "code",
   "execution_count": null,
   "id": "fd662bd3-0eb0-4f55-b761-a96686aa1361",
   "metadata": {},
   "outputs": [],
   "source": [
    "R_final.as_matrix()[1].T"
   ]
  },
  {
   "cell_type": "code",
   "execution_count": null,
   "id": "197b0846-9541-4a5a-8ddd-4eec51997302",
   "metadata": {},
   "outputs": [],
   "source": [
    "np.transpose(R_final.as_matrix(), axes=(0,2,1))[1]"
   ]
  },
  {
   "cell_type": "code",
   "execution_count": null,
   "id": "91d85327-391c-459c-be46-a52789f0b0dd",
   "metadata": {},
   "outputs": [],
   "source": [
    "R_diff = R_init.as_matrix() * np.transpose(R_final.as_matrix(), axes=(0,2,1))"
   ]
  },
  {
   "cell_type": "code",
   "execution_count": null,
   "id": "f4551094-2739-4806-b384-e8bbe0877e31",
   "metadata": {},
   "outputs": [],
   "source": [
    "R_diff[1]"
   ]
  },
  {
   "cell_type": "code",
   "execution_count": null,
   "id": "4eadf724-b5aa-471d-9565-26daae006a99",
   "metadata": {},
   "outputs": [],
   "source": [
    "np.trace(R_diff, axis1=1, axis2=2)"
   ]
  },
  {
   "cell_type": "code",
   "execution_count": null,
   "id": "053021e7-c620-45e4-a28e-33abfbead724",
   "metadata": {},
   "outputs": [],
   "source": [
    "np.radians((np.trace(R_diff, axis1=1, axis2=2) - 1)/2)"
   ]
  },
  {
   "cell_type": "code",
   "execution_count": null,
   "id": "3cf0e3d1-9337-4886-88d3-de8346b6e96b",
   "metadata": {},
   "outputs": [],
   "source": [
    "np.degrees(np.arccos(np.radians((np.trace(R_diff, axis1=1, axis2=2) - 1)/2)))"
   ]
  }
 ],
 "metadata": {
  "kernelspec": {
   "display_name": "Python 3 (ipykernel)",
   "language": "python",
   "name": "python3"
  },
  "language_info": {
   "codemirror_mode": {
    "name": "ipython",
    "version": 3
   },
   "file_extension": ".py",
   "mimetype": "text/x-python",
   "name": "python",
   "nbconvert_exporter": "python",
   "pygments_lexer": "ipython3",
   "version": "3.10.12"
  }
 },
 "nbformat": 4,
 "nbformat_minor": 5
}
