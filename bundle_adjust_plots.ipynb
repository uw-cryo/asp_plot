{
 "cells": [
  {
   "cell_type": "markdown",
   "id": "6cec1b1f-30b5-454e-9ecf-49f595031970",
   "metadata": {},
   "source": [
    "# ASP Bundle Adjust Plotting\n",
    "## Examples for BlackSky Easton Glacier test case (n=20)\n",
    "David Shean  \n",
    "12/24/22"
   ]
  },
  {
   "cell_type": "code",
   "execution_count": null,
   "id": "29b52eb2-3adc-47dc-a762-f86e1523051c",
   "metadata": {},
   "outputs": [],
   "source": [
    "import numpy as np\n",
    "import pandas as pd\n",
    "import geopandas as gpd\n",
    "import matplotlib.pyplot as plt\n",
    "import contextily as cx"
   ]
  },
  {
   "cell_type": "code",
   "execution_count": null,
   "id": "3b050f1b-188a-422a-b802-2e95d7b90ba1",
   "metadata": {},
   "outputs": [],
   "source": [
    "import matplotlib.colors"
   ]
  },
  {
   "cell_type": "code",
   "execution_count": null,
   "id": "2a46f3ea-6933-4b8e-87c2-b287d4588d74",
   "metadata": {},
   "outputs": [],
   "source": [
    "topdir = '/Users/dshean/scr/BlackSky/EastonGlacier_20220918-20221012/non-ortho'"
   ]
  },
  {
   "cell_type": "code",
   "execution_count": null,
   "id": "73793896-84b6-436f-a071-9a93ba1353fc",
   "metadata": {},
   "outputs": [],
   "source": [
    "cd $topdir"
   ]
  },
  {
   "cell_type": "code",
   "execution_count": null,
   "id": "cf3b7668-02ba-4444-8d0c-72391e449423",
   "metadata": {},
   "outputs": [],
   "source": [
    "#ba_prefix = 'ba_all/ba_all'"
   ]
  },
  {
   "cell_type": "code",
   "execution_count": null,
   "id": "edd79161-cd8b-4f16-81cc-71cd4e0cdb1a",
   "metadata": {},
   "outputs": [],
   "source": [
    "ba_prefix = 'ba_all/ba_all_tri_weight'"
   ]
  },
  {
   "cell_type": "markdown",
   "id": "833d096b-2da4-4521-a911-b9a68d9740f7",
   "metadata": {},
   "source": [
    "## Plot convergence angles"
   ]
  },
  {
   "cell_type": "code",
   "execution_count": null,
   "id": "26e99e01-e2e0-4f35-a2c1-640bb5928fd5",
   "metadata": {},
   "outputs": [],
   "source": [
    "conv_txt = ba_prefix+'-convergence_angles.txt'"
   ]
  },
  {
   "cell_type": "code",
   "execution_count": null,
   "id": "a4b556ef-5446-48c9-bc94-72ea09376f59",
   "metadata": {},
   "outputs": [],
   "source": [
    "conv_cols = ['img1','img2','conv_25','conv_50','conv_75','num_angles']\n",
    "conv = pd.read_csv(conv_txt, delimiter=' ', skiprows=1, header=0, names=conv_cols, index_col=False)"
   ]
  },
  {
   "cell_type": "code",
   "execution_count": null,
   "id": "3fa8155b-8a7c-4409-9f57-9e8354a1e468",
   "metadata": {},
   "outputs": [],
   "source": [
    "conv_valid = conv[conv['num_angles'] != 0]"
   ]
  },
  {
   "cell_type": "code",
   "execution_count": null,
   "id": "0108ed4d-301b-41ef-90f0-a9c00f3e88eb",
   "metadata": {},
   "outputs": [],
   "source": [
    "conv_valid.reset_index().plot.scatter(x='index', y='conv_50', c='num_angles', cmap='inferno')"
   ]
  },
  {
   "cell_type": "code",
   "execution_count": null,
   "id": "7f5a9043-8aad-464d-bc64-5354c9ac3a04",
   "metadata": {},
   "outputs": [],
   "source": [
    "f, ax = plt.subplots()\n",
    "m = ax.scatter(conv_valid.index, conv_valid['conv_50'], c=conv_valid['num_angles'], norm=matplotlib.colors.LogNorm())\n",
    "plt.colorbar(m)"
   ]
  },
  {
   "cell_type": "markdown",
   "id": "5125a65f-b7f5-49e8-81b1-c8f7b13677e5",
   "metadata": {},
   "source": [
    "## Plot camera positions"
   ]
  },
  {
   "cell_type": "code",
   "execution_count": null,
   "id": "6f48e134-3ee1-4fc3-9fd2-b75128babf88",
   "metadata": {},
   "outputs": [],
   "source": [
    "cam_init_csv = ba_prefix+'-initial-cameras.csv'\n",
    "cam_final_csv = ba_prefix+'-final-cameras.csv'"
   ]
  },
  {
   "cell_type": "code",
   "execution_count": null,
   "id": "f738bbcf-9a9d-46b7-9753-1262a555ff98",
   "metadata": {},
   "outputs": [],
   "source": [
    "cam_cols=['input_cam_file', 'x','y','z','r11','r12','r13','r21','r22','r23','r31','r32','r33']\n",
    "cam_init = pd.read_csv(cam_init_csv, header=0, names=cam_cols, index_col='input_cam_file')\n",
    "cam_final = pd.read_csv(cam_final_csv, header=0, names=cam_cols, index_col='input_cam_file')"
   ]
  },
  {
   "cell_type": "code",
   "execution_count": null,
   "id": "def9f157-56fc-4c53-aed8-593500597472",
   "metadata": {
    "tags": []
   },
   "outputs": [],
   "source": [
    "cam_delta = cam_init - cam_final"
   ]
  },
  {
   "cell_type": "code",
   "execution_count": null,
   "id": "e754af03-0f6d-401e-814b-9f86220e4545",
   "metadata": {},
   "outputs": [],
   "source": [
    "cam_delta['m'] = np.sqrt(np.square(cam_delta[['x','y','z']]).sum(axis=1))"
   ]
  },
  {
   "cell_type": "code",
   "execution_count": null,
   "id": "b69d6395-eed7-4c99-bd13-da2972d41158",
   "metadata": {},
   "outputs": [],
   "source": [
    "cam_final.index.to_series().str.split('-', expand=True)[1]"
   ]
  },
  {
   "cell_type": "code",
   "execution_count": null,
   "id": "53b0503d-5330-4b60-99f0-0648018a9016",
   "metadata": {},
   "outputs": [],
   "source": [
    "global_id = cam_final.index.to_series().str.split('-', expand=True)[1].astype('int') - 100"
   ]
  },
  {
   "cell_type": "code",
   "execution_count": null,
   "id": "1eb02f23-ee78-45cf-9f72-2ffb530a9475",
   "metadata": {},
   "outputs": [],
   "source": [
    "#cam_init_idx = cam_init['input_cam_file'].str.split('/', expand=True)"
   ]
  },
  {
   "cell_type": "code",
   "execution_count": null,
   "id": "eb05dcbb-c660-4b1b-8e96-8b62c695c55b",
   "metadata": {},
   "outputs": [],
   "source": [
    "cam_init_gdf = gpd.GeoDataFrame(cam_init, geometry=gpd.points_from_xy(cam_init['x'], cam_init['y'], cam_init['z'], crs='EPSG:4978'))\n",
    "cam_final_gdf = gpd.GeoDataFrame(cam_final, geometry=gpd.points_from_xy(cam_init['x'], cam_init['y'], cam_init['z'], crs='EPSG:4978'))"
   ]
  },
  {
   "cell_type": "code",
   "execution_count": null,
   "id": "9511e703-be85-47bb-82df-8a647e9017d9",
   "metadata": {},
   "outputs": [],
   "source": [
    "cam_final_gdf['m'] = cam_delta['m']\n",
    "cam_final_gdf['global_id'] = global_id"
   ]
  },
  {
   "cell_type": "code",
   "execution_count": null,
   "id": "01cb1fbc-a355-4088-ab3c-68b531ed589a",
   "metadata": {},
   "outputs": [],
   "source": [
    "cam_final_gdf"
   ]
  },
  {
   "cell_type": "code",
   "execution_count": null,
   "id": "517c9a1d-0df6-4318-9d85-bcc3071dee2c",
   "metadata": {},
   "outputs": [],
   "source": [
    "map_crs = 'EPSG:32610'"
   ]
  },
  {
   "cell_type": "code",
   "execution_count": null,
   "id": "7089614c-b3e0-4a77-bc81-5bbbf9d2e383",
   "metadata": {},
   "outputs": [],
   "source": [
    "ax = cam_init_gdf.to_crs(map_crs).plot(color='r')\n",
    "cam_final_gdf.to_crs(map_crs).plot(ax=ax, color='b')\n",
    "cx.add_basemap(ax, crs=map_crs)\n",
    "#ax.set_aspect('equal')"
   ]
  },
  {
   "cell_type": "code",
   "execution_count": null,
   "id": "a94fc8b8-593d-4596-a70b-44afe9669a79",
   "metadata": {
    "tags": []
   },
   "outputs": [],
   "source": [
    "ax = cam_final_gdf.to_crs(map_crs).plot(column='global_id', cmap='tab20', legend='True', legend_kwds={'label': \"BlackSky Satellite ID\"})\n",
    "cx.add_basemap(ax, crs=map_crs)"
   ]
  },
  {
   "cell_type": "code",
   "execution_count": null,
   "id": "011aad64-fe5b-4c11-9f5b-fa1e3b6b20c1",
   "metadata": {},
   "outputs": [],
   "source": [
    "ax = cam_final_gdf.to_crs(map_crs).plot(column='m', norm=matplotlib.colors.LogNorm(), legend='True', legend_kwds={'label': \"Translation Magnitude (m)\"})\n",
    "cx.add_basemap(ax, crs=map_crs)"
   ]
  },
  {
   "cell_type": "code",
   "execution_count": null,
   "id": "ed846dea-ffda-4133-9bed-fcf552f3912a",
   "metadata": {},
   "outputs": [],
   "source": [
    "cam_delta['m'].plot.bar()"
   ]
  },
  {
   "cell_type": "markdown",
   "id": "da8fa377-6a3f-4b49-a275-160b7a809292",
   "metadata": {},
   "source": [
    "### Compute rotation delta magnitude"
   ]
  },
  {
   "cell_type": "code",
   "execution_count": null,
   "id": "058210d6-92c6-4439-8f80-f5925bdd80f7",
   "metadata": {},
   "outputs": [],
   "source": [
    "from scipy.spatial.transform import Rotation as R"
   ]
  },
  {
   "cell_type": "markdown",
   "id": "727bd053-c0d6-451c-bb74-e8b202e393b8",
   "metadata": {},
   "source": [
    "## Residuals"
   ]
  },
  {
   "cell_type": "code",
   "execution_count": null,
   "id": "2b4c7d96-2ae2-440e-969e-941c0cb86a66",
   "metadata": {},
   "outputs": [],
   "source": [
    "def read_residuals(csv_fn):\n",
    "    resid_cols=['lon', 'lat', 'height_above_datum', 'mean_residual', 'num_observations']\n",
    "    resid_df = pd.read_csv(csv_fn, skiprows=2, names=resid_cols)\n",
    "    resid_df['from_DEM'] = resid_df['num_observations'].str.contains('# from DEM')\n",
    "    resid_df['num_observations'] = resid_df['num_observations'].str.split('#', expand=True)[0].astype(int)\n",
    "    resid_gdf = gpd.GeoDataFrame(resid_df, geometry=gpd.points_from_xy(resid_df['lon'], resid_df['lat'], crs='EPSG:4326'))\n",
    "    return resid_gdf"
   ]
  },
  {
   "cell_type": "code",
   "execution_count": null,
   "id": "a59715d9-70b4-4356-8cb9-7c5d07763cd8",
   "metadata": {},
   "outputs": [],
   "source": [
    "resid_init_csv = ba_prefix+'-initial_residuals_pointmap.csv'\n",
    "resid_init = read_residuals(resid_init_csv)"
   ]
  },
  {
   "cell_type": "code",
   "execution_count": null,
   "id": "003a4824-173b-4a98-9751-db7550fca8fc",
   "metadata": {},
   "outputs": [],
   "source": [
    "resid_final_csv = ba_prefix+'-final_residuals_pointmap.csv'\n",
    "resid_final = read_residuals(resid_final_csv)"
   ]
  },
  {
   "cell_type": "code",
   "execution_count": null,
   "id": "fed1e4b0-8867-4f9b-a030-524e79b59c99",
   "metadata": {},
   "outputs": [],
   "source": [
    "resid_init.describe()"
   ]
  },
  {
   "cell_type": "code",
   "execution_count": null,
   "id": "09d54b44-62c3-4aa8-ba1d-1be3665ed9ad",
   "metadata": {},
   "outputs": [],
   "source": [
    "resid_final.describe()"
   ]
  },
  {
   "cell_type": "code",
   "execution_count": null,
   "id": "c1049daf-7364-412e-a399-d9964dfb2c0d",
   "metadata": {},
   "outputs": [],
   "source": [
    "def resid_plot(col='mean_residual', clip_final=True, lognorm=False):\n",
    "    f, axa = plt.subplots(1,2, sharex=True, sharey=True)\n",
    "    vmin = min(resid_init[col].min(), resid_final[col].min())\n",
    "    vmax = max(resid_init[col].max(), resid_final[col].max())\n",
    "    norm = matplotlib.colors.Normalize(vmin=vmin, vmax=vmax)\n",
    "    if lognorm:\n",
    "        norm = matplotlib.colors.LogNorm(vmin=vmin, vmax=vmax)\n",
    "    plot_kw = {'norm':norm, 's':1, 'legend':True, 'legend_kwds':{'label': col}}\n",
    "    resid_final.sort_values(by=col).to_crs(map_crs).plot(ax=axa[1], column=col, **plot_kw)\n",
    "    cx.add_basemap(ax=axa[1], crs=map_crs, attribution_size=0)\n",
    "    if clip_final:\n",
    "        axa[0].autoscale(False)\n",
    "    resid_init.sort_values(by=col).to_crs(map_crs).plot(ax=axa[0], column=col, **plot_kw)\n",
    "    cx.add_basemap(ax=axa[0], crs=map_crs, attribution_size=0)\n",
    "    #plt.tight_layout()"
   ]
  },
  {
   "cell_type": "code",
   "execution_count": null,
   "id": "95f66a44-17f0-4239-a2a7-7a09ed6a7c06",
   "metadata": {},
   "outputs": [],
   "source": [
    "resid_plot(col='mean_residual', lognorm=True)"
   ]
  },
  {
   "cell_type": "code",
   "execution_count": null,
   "id": "d2431cb2-e903-480c-8fe7-901ecd915c19",
   "metadata": {},
   "outputs": [],
   "source": [
    "resid_plot(col='num_observations')"
   ]
  },
  {
   "cell_type": "markdown",
   "id": "6e673a86-093f-4a71-a394-21c3839ea584",
   "metadata": {},
   "source": [
    "## Mapproject Residuals"
   ]
  },
  {
   "cell_type": "code",
   "execution_count": null,
   "id": "17c4085a-9634-40ec-af54-bbe150e02f82",
   "metadata": {},
   "outputs": [],
   "source": [
    "def read_mapproj_match_offset(csv_fn):\n",
    "    resid_cols=['lon', 'lat', 'height_above_datum', 'mapproj_ip_dist_meters']\n",
    "    resid_df = pd.read_csv(csv_fn, skiprows=2, names=resid_cols)\n",
    "    resid_gdf = gpd.GeoDataFrame(resid_df, geometry=gpd.points_from_xy(resid_df['lon'], resid_df['lat'], crs='EPSG:4326'))\n",
    "    return resid_gdf"
   ]
  },
  {
   "cell_type": "code",
   "execution_count": null,
   "id": "2dff3480-1d9d-4721-be98-ace81c1dc663",
   "metadata": {},
   "outputs": [],
   "source": [
    "mapproj_match_offset_txt = ba_prefix+'-mapproj_match_offsets.txt'\n",
    "mapproj_match_offset = read_mapproj_match_offset(mapproj_match_offset_txt)"
   ]
  },
  {
   "cell_type": "code",
   "execution_count": null,
   "id": "a3fc0938-ca16-46cc-8464-fdc04cb590e9",
   "metadata": {},
   "outputs": [],
   "source": [
    "mapproj_match_offset.describe()"
   ]
  },
  {
   "cell_type": "code",
   "execution_count": null,
   "id": "361b42b9-9cc0-480d-b8ce-c01fdea062e7",
   "metadata": {},
   "outputs": [],
   "source": [
    "col='mapproj_ip_dist_meters'"
   ]
  },
  {
   "cell_type": "code",
   "execution_count": null,
   "id": "eff6ff1b-61b9-4287-b30e-ecbc4c79a0ac",
   "metadata": {},
   "outputs": [],
   "source": [
    "mapproj_match_offset.sort_values(by=col).to_crs(map_crs).plot(column=col, norm=matplotlib.colors.LogNorm(), legend=True)"
   ]
  },
  {
   "cell_type": "markdown",
   "id": "9f86021a-ffab-4d05-991e-b5c90f1a0d56",
   "metadata": {},
   "source": [
    "## Geoplot tests for KDE"
   ]
  },
  {
   "cell_type": "code",
   "execution_count": null,
   "id": "b7dec928-278d-44c3-92ac-01a1c6d80a4d",
   "metadata": {},
   "outputs": [],
   "source": [
    "import geoplot as gplt\n",
    "import geoplot.crs as gcrs"
   ]
  },
  {
   "cell_type": "code",
   "execution_count": null,
   "id": "56279590-707d-475f-9194-3f00c1659918",
   "metadata": {},
   "outputs": [],
   "source": [
    "ax = gplt.pointplot(mapproj_match_offset, projection=gcrs.AlbersEqualArea(), s=1)\n",
    "gplt.kdeplot(mapproj_match_offset[['mapproj_ip_dist_meters','geometry']], projection=gcrs.AlbersEqualArea(), ax=ax)"
   ]
  }
 ],
 "metadata": {
  "kernelspec": {
   "display_name": "Python 3 (ipykernel)",
   "language": "python",
   "name": "python3"
  },
  "language_info": {
   "codemirror_mode": {
    "name": "ipython",
    "version": 3
   },
   "file_extension": ".py",
   "mimetype": "text/x-python",
   "name": "python",
   "nbconvert_exporter": "python",
   "pygments_lexer": "ipython3",
   "version": "3.10.6"
  }
 },
 "nbformat": 4,
 "nbformat_minor": 5
}
