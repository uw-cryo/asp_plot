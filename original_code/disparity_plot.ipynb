{
 "cells": [
  {
   "cell_type": "markdown",
   "id": "f370e579-75cb-4147-994f-dd8265402e31",
   "metadata": {},
   "source": [
    "# Disparity Plot\n",
    "David Shean  \n",
    "January 2023\n",
    "\n",
    "Used to visualize disparity components and magnitude for orthoimage offets (output of vmap)"
   ]
  },
  {
   "cell_type": "code",
   "execution_count": null,
   "id": "b79eacc5-b1fa-4681-8516-9b6a43e7a6e6",
   "metadata": {},
   "outputs": [],
   "source": [
    "import os\n",
    "import glob\n",
    "\n",
    "import numpy as np\n",
    "import matplotlib.pyplot as plt\n",
    "from matplotlib_scalebar.scalebar import ScaleBar\n",
    "\n",
    "import rasterio as rio\n",
    "from osgeo import gdal"
   ]
  },
  {
   "cell_type": "code",
   "execution_count": null,
   "id": "207497e9-cb00-4249-832c-547eee9b7749",
   "metadata": {},
   "outputs": [],
   "source": [
    "from asp_plot_util import *"
   ]
  },
  {
   "cell_type": "code",
   "execution_count": null,
   "id": "3535cd5f-c7cd-40b0-ad54-7063818b1e7b",
   "metadata": {},
   "outputs": [],
   "source": [
    "disp_fn = '/Users/dshean/scr/BlackSky/Utqiagvik_20220425_stereo/WV_comparison/22APR17225148-P1BS-506304172010_01_P001_ortho__BSG-102-20220425-215147-22900061_georeferenced-pan_ortho_rpc_vmap_maxm_35px_spm1/22APR17225148-P1BS-506304172010_01_P001_ortho__BSG-102-20220425-215147-22900061_georeferenced-pan_ortho_rpc_vmap_maxm_35px_spm1-F.tif'\n",
    "disp_fn = '/Users/dshean/scr/utqiagvik/WV02_20220411_10300100D102A400_10300100D1B7D600/ncc_dgmaprpc/ncc_dgmaprpc-RD.tif'"
   ]
  },
  {
   "cell_type": "code",
   "execution_count": null,
   "id": "4720fb83-5f61-4bb3-bdd0-806da6db6a55",
   "metadata": {},
   "outputs": [],
   "source": [
    "#Specify output units\n",
    "unit='pixels'\n",
    "#unit='meters'\n",
    "#Remove median offset in x and y\n",
    "remove_bias = True\n",
    "#Add quivers to offset magnitude plot to indicate direction\n",
    "quiver = True"
   ]
  },
  {
   "cell_type": "code",
   "execution_count": null,
   "id": "e93344b9-a492-4f1d-ae0a-de02444888a2",
   "metadata": {},
   "outputs": [],
   "source": [
    "#Extract ground sample distance\n",
    "with rio.open(disp_fn) as ds:\n",
    "    gsd = ds.transform[0]"
   ]
  },
  {
   "cell_type": "code",
   "execution_count": null,
   "id": "b929edf1-01fa-4709-a9f6-6bf76073dd17",
   "metadata": {},
   "outputs": [],
   "source": [
    "#Read band 1 (dx) and band 2 (dy) data\n",
    "#TODO: load overview if present, prohibitively slow for large WV iamges\n",
    "dx = read_array(disp_fn, 1)\n",
    "dy = read_array(disp_fn, 2)"
   ]
  },
  {
   "cell_type": "code",
   "execution_count": null,
   "id": "19495cf0-2bcf-4727-8fdc-1f699d467993",
   "metadata": {},
   "outputs": [],
   "source": [
    "#Scale offsets to meters\n",
    "if unit == 'meters':\n",
    "    dx *= gsd\n",
    "    dy *= gsd"
   ]
  },
  {
   "cell_type": "code",
   "execution_count": null,
   "id": "f2a66e88-94b2-456a-8373-c140b83240cd",
   "metadata": {},
   "outputs": [],
   "source": [
    "#Remove median disparity\n",
    "if remove_bias:\n",
    "    dx_offset = np.ma.median(dx)\n",
    "    dy_offset = np.ma.median(dy)\n",
    "    print(dx_offset, dy_offset)\n",
    "    dx -= dx_offset\n",
    "    dy -= dy_offset"
   ]
  },
  {
   "cell_type": "code",
   "execution_count": null,
   "id": "016fd66d-9fe5-4a9a-91ce-2e07118b9992",
   "metadata": {},
   "outputs": [],
   "source": [
    "#Compute magnitude\n",
    "dm = np.sqrt(dx**2 + dy**2)"
   ]
  },
  {
   "cell_type": "code",
   "execution_count": null,
   "id": "31a10c22-84c4-40cd-ad79-695caf555ee6",
   "metadata": {},
   "outputs": [],
   "source": [
    "#Compute robust colorbar limits (default is 2-98 percentile)\n",
    "clim = get_clim(dm, perc=(2,98), symm=True)\n",
    "clim"
   ]
  },
  {
   "cell_type": "code",
   "execution_count": null,
   "id": "198cac11-bcac-480e-992f-bb1f54e40b58",
   "metadata": {},
   "outputs": [],
   "source": [
    "f, axa = plt.subplots(1, 3, figsize=(10, 3), dpi=220)\n",
    "\n",
    "plot_ar(dx, axa[0], cmap='RdBu', clim=clim, label=unit) #f'x offset ({unit})'\n",
    "plot_ar(dy, axa[1], cmap='RdBu', clim=clim, label=unit)\n",
    "plot_ar(dm, axa[2], cmap='inferno', clim=(0, clim[1]), label=unit)\n",
    "\n",
    "#Add quiver vectors\n",
    "if quiver:\n",
    "    #Set ~30 points for quivers along x dimension\n",
    "    stride = int(dx.shape[1]/30.)\n",
    "    iy, ix = np.indices(dx.shape)[:, ::stride, ::stride]\n",
    "    dx_q = dx[::stride, ::stride]\n",
    "    dy_q = dy[::stride, ::stride]\n",
    "    #plt.quiver(ix, -iy, dx_q*gsd, dy_q*gsd)\n",
    "    axa[2].quiver(ix, iy, dx_q, dy_q, color='white')\n",
    "\n",
    "#Add scalebar\n",
    "sb = ScaleBar(gsd)\n",
    "axa[0].set_title('x offset')\n",
    "axa[1].set_title('y offset')\n",
    "axa[2].set_title('offset magnitude')\n",
    "\n",
    "plt.tight_layout()"
   ]
  }
 ],
 "metadata": {
  "kernelspec": {
   "display_name": "Python 3 (ipykernel)",
   "language": "python",
   "name": "python3"
  },
  "language_info": {
   "codemirror_mode": {
    "name": "ipython",
    "version": 3
   },
   "file_extension": ".py",
   "mimetype": "text/x-python",
   "name": "python",
   "nbconvert_exporter": "python",
   "pygments_lexer": "ipython3",
   "version": "3.10.12"
  }
 },
 "nbformat": 4,
 "nbformat_minor": 5
}
