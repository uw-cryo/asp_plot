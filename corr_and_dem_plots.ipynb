{
 "cells": [
  {
   "cell_type": "markdown",
   "id": "28b535b3-aeda-4960-b476-e2bd06f0cba0",
   "metadata": {},
   "source": [
    "# ASP Stereo Output Plotting\n",
    "\n",
    "David Shean  \n",
    "1/2/23"
   ]
  },
  {
   "cell_type": "markdown",
   "id": "db995225-27fb-48fe-98ec-c4dac4601f8e",
   "metadata": {},
   "source": [
    "## To do:\n",
    "* Integrate with the disparity plot notebook - remove x and y bias, show total magnitude"
   ]
  },
  {
   "cell_type": "code",
   "execution_count": null,
   "id": "433363fc-8d89-4a82-8486-dde64bd0809e",
   "metadata": {},
   "outputs": [],
   "source": [
    "import os\n",
    "import glob\n",
    "\n",
    "import numpy as np\n",
    "import matplotlib.pyplot as plt\n",
    "from matplotlib_scalebar.scalebar import ScaleBar\n",
    "from mpl_toolkits.axes_grid1 import make_axes_locatable\n",
    "import rasterio as rio\n",
    "from osgeo import gdal"
   ]
  },
  {
   "cell_type": "code",
   "execution_count": null,
   "id": "92d304a3-43a5-4ba8-b3b1-06961caa27e4",
   "metadata": {},
   "outputs": [],
   "source": [
    "from asp_plot_util import *"
   ]
  },
  {
   "cell_type": "code",
   "execution_count": null,
   "id": "fe247158-69b8-4f9c-bd16-966fcd42b1d7",
   "metadata": {},
   "outputs": [],
   "source": [
    "def plot_ar(im, ax, cmap='inferno', clim=None, clim_perc=(2,98), label=None, cbar=True, alpha=1):\n",
    "    if clim is None:\n",
    "        clim = get_clim(im, clim_perc)\n",
    "    m = ax.imshow(im, cmap=cmap, clim=clim, alpha=alpha, interpolation='none')\n",
    "    if cbar:\n",
    "        divider = make_axes_locatable(ax)\n",
    "        cax = divider.append_axes(\"right\", size=\"4%\", pad=\"2%\")\n",
    "        cb = plt.colorbar(m, cax=cax, ax=ax, extend=get_cbar_extend(im, clim))\n",
    "        cax.set_ylabel(label)\n",
    "    ax.set_facecolor(\"0.5\")\n",
    "    ax.set_xticks([])\n",
    "    ax.set_yticks([])"
   ]
  },
  {
   "cell_type": "markdown",
   "id": "335d680c-e0f2-4652-bdfd-caf2ffc3f2de",
   "metadata": {},
   "source": [
    "### WIP: read match files to plot on orthoimages\n",
    "Modified from `bare`: https://github.com/friedrichknuth/bare"
   ]
  },
  {
   "cell_type": "code",
   "execution_count": null,
   "id": "e03e0dad-5f83-4d01-8773-829045d5b266",
   "metadata": {},
   "outputs": [],
   "source": [
    "def read_ip_record(mf):\n",
    "    x, y = np.frombuffer(mf.read(8), dtype=np.float32)\n",
    "    xi, yi = np.frombuffer(mf.read(8), dtype=np.int32)\n",
    "    orientation, scale, interest = np.frombuffer(mf.read(12), dtype=np.float32)\n",
    "    polarity, = np.frombuffer(mf.read(1), dtype=np.bool)\n",
    "    octave, scale_lvl = np.frombuffer(mf.read(8), dtype=np.uint32)\n",
    "    ndesc, = np.frombuffer(mf.read(8), dtype=np.uint64)\n",
    "    desc = np.frombuffer(mf.read(int(ndesc * 4)), dtype=np.float32)\n",
    "    iprec = [x, y, xi, yi, orientation, \n",
    "             scale, interest, polarity, \n",
    "             octave, scale_lvl, ndesc]\n",
    "    iprec.extend(desc)\n",
    "    return iprec\n"
   ]
  },
  {
   "cell_type": "code",
   "execution_count": null,
   "id": "52fd9d53-5cad-40b0-b5d7-d1a9786d684b",
   "metadata": {},
   "outputs": [],
   "source": [
    "def read_match(fn):\n",
    "    out_csv = os.path.splitext(fn)[0] + '.csv'\n",
    "    with open(fn, 'rb') as mf, open(out_csv, 'w') as out:\n",
    "        size1 = np.frombuffer(mf.read(8), dtype=np.uint64)[0]\n",
    "        size2 = np.frombuffer(mf.read(8), dtype=np.uint64)[0]\n",
    "        out.write('x1 y1 x2 y2\\n')\n",
    "        im1_ip = [read_ip_record(mf) for i in range(size1)]\n",
    "        im2_ip = [read_ip_record(mf) for i in range(size2)]\n",
    "        for i in range(len(im1_ip)):\n",
    "            out.write('{} {} {} {}\\n'.format(im1_ip[i][0], \n",
    "                                             im1_ip[i][1], \n",
    "                                             im2_ip[i][0], \n",
    "                                             im2_ip[i][1]))"
   ]
  },
  {
   "cell_type": "code",
   "execution_count": null,
   "id": "b69b6c56-9661-4028-923a-51c6b920bccd",
   "metadata": {},
   "outputs": [],
   "source": [
    "match_fn = '/Users/dshean/scr/BlackSky/GM_SnowOff_202208/stereo_nadirpinhole/BSG-118-20220818-144000-35576853__BSG-120-20220829-172023-36597228/BSG-118-20220818-144000-35576853__BSG-120-20220829-172023-36597228-L__R.match'"
   ]
  },
  {
   "cell_type": "code",
   "execution_count": null,
   "id": "43f2bc95-0c24-445f-b662-0e3701ee7964",
   "metadata": {},
   "outputs": [],
   "source": [
    "#read_match(match_fn)\n",
    "#Plot ip and matches over L_sub and R_sub"
   ]
  },
  {
   "cell_type": "markdown",
   "id": "12579a18-6965-4338-a36d-552dd1994509",
   "metadata": {},
   "source": [
    "## Single pair DEM plots"
   ]
  },
  {
   "cell_type": "code",
   "execution_count": null,
   "id": "c2fb81b3-95d5-4bff-a23c-a3791834411a",
   "metadata": {},
   "outputs": [],
   "source": [
    "def plot_dem(outdir, hillshade=True):\n",
    "    f, axa = plt.subplots(1, 5, figsize=(10,3), dpi=220)\n",
    "    axa = axa.ravel()\n",
    "\n",
    "    ortho_fn = glob.glob(os.path.join(outdir, '*-L_sub.tif'))\n",
    "    #ortho_fn = glob.glob(os.path.join(outdir, '*-L_ortho.tif'))\n",
    "    if ortho_fn:\n",
    "        ortho_fn = ortho_fn[0]\n",
    "        ortho_ma = read_array(ortho_fn)\n",
    "        plot_ar(ortho_ma, ax=axa[0], cmap='gray')\n",
    "    else:\n",
    "        axa[0].axis('off')\n",
    "\n",
    "    ortho_fn = glob.glob(os.path.join(outdir, '*-R_sub.tif'))\n",
    "    #ortho_fn = glob.glob(os.path.join(outdir, '*-R_ortho.tif'))\n",
    "    if ortho_fn:\n",
    "        ortho_fn = ortho_fn[0]\n",
    "        ortho_ma = read_array(ortho_fn)\n",
    "        plot_ar(ortho_ma, ax=axa[1], cmap='gray')\n",
    "    else:\n",
    "        axa[1].axis('off')\n",
    "    \n",
    "    dem_fn = glob.glob(os.path.join(outdir, '*-DEM.tif'))[0]\n",
    "    dem_ma = read_array(dem_fn)\n",
    "    with rio.open(dem_fn) as ds:\n",
    "        dem_gsd = ds.res[0]\n",
    "    \n",
    "    if hillshade:\n",
    "        hs_fn = glob.glob(os.path.join(outdir, '*-DEM_hs.tif'))\n",
    "        if hs_fn:\n",
    "            hs_fn = hs_fn[0]\n",
    "            hs_ma = read_array(hs_fn)\n",
    "        else:\n",
    "            dem_ds = gdal.Open(dem_fn)\n",
    "            hs_ds = gdal.DEMProcessing('', dem_ds, 'hillshade', format='MEM', computeEdges=True)\n",
    "            hs_ma = np.ma.masked_equal(hs_ds.ReadAsArray(), 0)\n",
    "        plot_ar(hs_ma, ax=axa[2], cmap='gray', clim_perc=(5,95), cbar=False)\n",
    "    \n",
    "    #axa[4].set_title(os.path.split(dem_fn)[-1])\n",
    "    plot_ar(dem_ma, ax=axa[2], cmap='viridis', label='Elevation (m HAE)', alpha=0.5)\n",
    "    \n",
    "    scalebar = ScaleBar(dem_gsd)\n",
    "    axa[2].add_artist(scalebar)\n",
    "    \n",
    "    #This is not generated by default (requires point2dem --errorimage)\n",
    "    error_fn = glob.glob(os.path.join(outdir, '*-IntersectionErr.tif'))\n",
    "    if error_fn:\n",
    "        error_fn = error_fn[0]\n",
    "        error_ma = read_array(error_fn)\n",
    "        plot_ar(error_ma, ax=axa[3], clim=get_clim(error_ma), cmap='inferno', label='Intersection Error (m)')\n",
    "    else:\n",
    "        axa[3].axis('off')\n",
    "    \n",
    "    #This is not generated by default (requires compute_diff.py $dem_fn $refdem)\n",
    "    diff_fn = glob.glob(os.path.join(outdir, '*-DEM*diff.tif'))\n",
    "    if diff_fn:\n",
    "        diff_fn = diff_fn[0]\n",
    "        diff_ma = read_array(diff_fn)\n",
    "        #Note negative sign here, as these are DEM minus REF, and want REF minus DEM\n",
    "        plot_ar(-diff_ma, ax=axa[4], clim=get_clim(diff_ma, symm=True), cmap='RdBu', label='Refdem diff (m)')\n",
    "    else:\n",
    "        axa[4].axis('off')\n",
    "    \n",
    "    f.suptitle(os.path.split(outdir)[-1])\n",
    "    f.tight_layout()\n",
    "    out_fn = dem_fn.split('-DEM.tif')[0]+'-stereo_report.png'\n",
    "    plt.savefig(out_fn, bbox_inches='tight')\n",
    "    plt.close(f)"
   ]
  },
  {
   "cell_type": "markdown",
   "id": "bf471b03-76ff-48e9-af9a-5af8c5ce0242",
   "metadata": {},
   "source": [
    "## Stereo correlation plots"
   ]
  },
  {
   "cell_type": "code",
   "execution_count": null,
   "id": "d2f44bd6-5e75-48fb-a8e6-e9c4dce5e9b7",
   "metadata": {},
   "outputs": [],
   "source": [
    "def plot_corr_results(outdir):\n",
    "    f, axa = plt.subplots(3, 2, figsize=(7.5,10), dpi=220)\n",
    "    axa = axa.ravel()\n",
    "\n",
    "    l_img_fn = glob.glob(os.path.join(outdir, '*-L_sub.tif'))[0]\n",
    "    #l_img_fn = glob.glob(os.path.join(outdir, '*-L.tif'))[0]\n",
    "    l_img_ma = read_array(l_img_fn)\n",
    "\n",
    "    r_img_fn = glob.glob(os.path.join(outdir, '*-R_sub.tif'))[0]\n",
    "    #r_img_fn = glob.glob(os.path.join(outdir, '*-R.tif'))[0]\n",
    "    r_img_ma = read_array(r_img_fn)\n",
    "    \n",
    "    disp_fn = glob.glob(os.path.join(outdir, '*-RD.tif'))[0]\n",
    "    #disp_fn = glob.glob(os.path.join(outdir, '*-F.tif'))[0]\n",
    "    dx_ma = read_array(disp_fn, 1)\n",
    "    dy_ma = read_array(disp_fn, 2)\n",
    "    disp_clim = find_common_clim(dx_ma, dy_ma, symm=True)\n",
    "    \n",
    "    l_stddev_fn = glob.glob(os.path.join(outdir, '*-L_stddev_filter_output.tif'))\n",
    "    if l_stddev_fn:\n",
    "        l_stddev_fn = l_stddev_fn[0]\n",
    "        l_stddev_ma = read_array(l_stddev_fn)\n",
    "        r_stddev_fn = glob.glob(os.path.join(outdir, '*-R_stddev_filter_output.tif'))[0]\n",
    "        r_stddev_ma = read_array(r_stddev_fn)\n",
    "        stddev_clim = list(find_common_clim(l_stddev_ma, r_stddev_ma))\n",
    "        stddev_clim[0] = 0\n",
    "        plot_ar(l_stddev_ma, ax=axa[2], clim=stddev_clim, cmap='inferno', label='std filter (px)')\n",
    "        plot_ar(r_stddev_ma, ax=axa[3], clim=stddev_clim, cmap='inferno', label='std filter (px)')\n",
    "    \n",
    "    plot_ar(l_img_ma, ax=axa[0], cmap='gray', clim_perc=(0,100))\n",
    "    plot_ar(r_img_ma, ax=axa[1], cmap='gray', clim_perc=(0,100))\n",
    "    \n",
    "    plot_ar(dx_ma, ax=axa[4], clim=disp_clim, cmap='RdBu', label='x disparity (px)')\n",
    "    plot_ar(dy_ma, ax=axa[5], clim=disp_clim, cmap='RdBu', label='y disparity (px)')\n",
    "    \n",
    "    plt.suptitle(os.path.split(outdir)[-1])\n",
    "    plt.tight_layout()\n",
    "    out_fn = l_img_fn.split('-L.tif')[0]+'-corr_report.png'\n",
    "    plt.savefig(out_fn)\n",
    "    plt.close(f)"
   ]
  },
  {
   "cell_type": "markdown",
   "id": "0cedf4f8-ca7b-4d45-89ee-02d204d134f7",
   "metadata": {},
   "source": [
    "## Testing"
   ]
  },
  {
   "cell_type": "code",
   "execution_count": null,
   "id": "c6162f76-55e7-4ce5-bbc7-b68cb12331f0",
   "metadata": {},
   "outputs": [],
   "source": [
    "outdir = '/Users/dshean/scr/utqiagvik/WV02_20220411_10300100D102A400_10300100D1B7D600/ncc_dgmaprpc/'"
   ]
  },
  {
   "cell_type": "code",
   "execution_count": null,
   "id": "cf76b056-5e07-477c-b95c-6de7bacf7f6c",
   "metadata": {},
   "outputs": [],
   "source": [
    "plot_dem(outdir)\n",
    "#plot_corr_results(outdir)"
   ]
  }
 ],
 "metadata": {
  "kernelspec": {
   "display_name": "Python 3 (ipykernel)",
   "language": "python",
   "name": "python3"
  },
  "language_info": {
   "codemirror_mode": {
    "name": "ipython",
    "version": 3
   },
   "file_extension": ".py",
   "mimetype": "text/x-python",
   "name": "python",
   "nbconvert_exporter": "python",
   "pygments_lexer": "ipython3",
   "version": "3.10.12"
  }
 },
 "nbformat": 4,
 "nbformat_minor": 5
}
