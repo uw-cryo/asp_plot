{
 "cells": [
  {
   "cell_type": "markdown",
   "id": "28b535b3-aeda-4960-b476-e2bd06f0cba0",
   "metadata": {},
   "source": [
    "# ASP Stereo Output Plotting\n",
    "### Examples for BlackSky Easton Glacier test case (n=20)\n",
    "\n",
    "David Shean  \n",
    "1/2/23"
   ]
  },
  {
   "cell_type": "code",
   "execution_count": null,
   "id": "433363fc-8d89-4a82-8486-dde64bd0809e",
   "metadata": {},
   "outputs": [],
   "source": [
    "import os\n",
    "import glob\n",
    "\n",
    "import numpy as np\n",
    "import matplotlib.pyplot as plt\n",
    "from matplotlib_scalebar.scalebar import ScaleBar\n",
    "from mpl_toolkits.axes_grid1 import make_axes_locatable\n",
    "import rasterio\n",
    "from rasterio.windows import Window\n",
    "from osgeo import gdal"
   ]
  },
  {
   "cell_type": "code",
   "execution_count": null,
   "id": "f83eac62-dc42-45fa-bd08-8892ed98031b",
   "metadata": {},
   "outputs": [],
   "source": [
    "outdir = '/Users/dshean/scr/BlackSky/EastonGlacier_20220918-20221012/non-ortho/stereo_ba_all_tri_weight/BSG-112-20220918-173557-38516577__BSG-113-20220918-175217-38567076'"
   ]
  },
  {
   "cell_type": "code",
   "execution_count": null,
   "id": "7c4ec215-084f-4d78-8df5-274b75e1243a",
   "metadata": {},
   "outputs": [],
   "source": [
    "outdir = '/Users/dshean/scr/BlackSky/EastonGlacier_20220918-20221012/non-ortho/stereo_ba_all_tri_weight/BSG-108-20221005-191015-40132991__BSG-118-20221012-202648-41004143'"
   ]
  },
  {
   "cell_type": "code",
   "execution_count": null,
   "id": "8073629c-954e-4c4a-8f95-37d608705ca2",
   "metadata": {},
   "outputs": [],
   "source": [
    "cd $outdir"
   ]
  },
  {
   "cell_type": "code",
   "execution_count": null,
   "id": "6e037b85-c4e5-4229-b53f-cee97ab3d427",
   "metadata": {},
   "outputs": [],
   "source": [
    "def symm_clim(clim):\n",
    "    abs_max = np.max(np.abs(clim))\n",
    "    return (-abs_max, abs_max)\n",
    "\n",
    "def get_clim(ar, perc=(2,98), symm=False):\n",
    "    try:\n",
    "        clim = np.percentile(ar.compressed(), perc)\n",
    "    except:\n",
    "        clim = np.percentile(ar, perc)\n",
    "    if symm:\n",
    "        clim = symm_clim(clim)\n",
    "    return clim\n",
    "\n",
    "#Generalize for input list, not just two images\n",
    "def find_common_clim(im1, im2, symm=False):\n",
    "    clim1 = get_clim(im1)\n",
    "    clim2 = get_clim(im2)\n",
    "    clim = (np.min([clim1[0],clim2[0]]), np.max([clim1[1],clim2[1]]))\n",
    "    if symm:\n",
    "        clim = symm_clim(clim)\n",
    "    return clim\n",
    "\n",
    "def read_array(fn, b=1):\n",
    "    ds = rasterio.open(fn)\n",
    "    a = ds.read(b, masked=True)\n",
    "    ndv = get_ndv(ds)\n",
    "    #The stddev grids have nan values, separate from nodata\n",
    "    ma = np.ma.fix_invalid(np.ma.masked_equal(a, ndv))\n",
    "    return ma\n",
    "\n",
    "def get_ndv(ds):\n",
    "    ndv = ds.nodatavals[0]\n",
    "    if ndv == None:\n",
    "        ndv = ds.read(1, window=Window(0, 0, 1, 1)).squeeze()\n",
    "    return ndv"
   ]
  },
  {
   "cell_type": "code",
   "execution_count": null,
   "id": "3cabb661-8f27-44bc-86f0-2e21cc2f0c8d",
   "metadata": {},
   "outputs": [],
   "source": [
    "def get_cbar_extend(a, clim=None):\n",
    "    \"\"\"\n",
    "    Determine whether we need to add triangles to ends of colorbar\n",
    "    \"\"\"\n",
    "    if clim is None:\n",
    "        clim = get_clim(a)\n",
    "    extend = 'both'\n",
    "    if a.min() >= clim[0] and a.max() <= clim[1]:\n",
    "        extend = 'neither'\n",
    "    elif a.min() >= clim[0] and a.max() > clim[1]:\n",
    "        extend = 'max'\n",
    "    elif a.min() < clim[0] and a.max() <= clim[1]:\n",
    "        extend = 'min'\n",
    "    return extend"
   ]
  },
  {
   "cell_type": "code",
   "execution_count": null,
   "id": "fe247158-69b8-4f9c-bd16-966fcd42b1d7",
   "metadata": {},
   "outputs": [],
   "source": [
    "def plot_ar(im, ax, cmap='inferno', clim=None, clim_perc=(2,98), label=None, cbar=True, alpha=1):\n",
    "    if clim is None:\n",
    "        clim = get_clim(im, clim_perc)\n",
    "    m = ax.imshow(im, cmap=cmap, clim=clim, alpha=alpha, interpolation='none')\n",
    "    if cbar:\n",
    "        divider = make_axes_locatable(ax)\n",
    "        cax = divider.append_axes(\"right\", size=\"4%\", pad=\"2%\")\n",
    "        cb = plt.colorbar(m, cax=cax, ax=ax, extend=get_cbar_extend(im, clim))\n",
    "        cax.set_ylabel(label)\n",
    "    ax.set_facecolor(\"0.5\")\n",
    "    ax.set_xticks([])\n",
    "    ax.set_yticks([])"
   ]
  },
  {
   "cell_type": "markdown",
   "id": "68bc86d3-edf1-482e-aa58-e2b083bb2761",
   "metadata": {},
   "source": [
    "## Stereo correlation plots"
   ]
  },
  {
   "cell_type": "code",
   "execution_count": null,
   "id": "d2f44bd6-5e75-48fb-a8e6-e9c4dce5e9b7",
   "metadata": {},
   "outputs": [],
   "source": [
    "def plot_corr_results(outdir):\n",
    "    f, axa = plt.subplots(3, 2, figsize=(7.5,10), dpi=220)\n",
    "    axa = axa.ravel()\n",
    "      \n",
    "    l_img_fn = glob.glob('*-L.tif')[0]\n",
    "    l_img_ma = read_array(l_img_fn)\n",
    "    \n",
    "    r_img_fn = glob.glob('*-R.tif')[0]\n",
    "    r_img_ma = read_array(r_img_fn)\n",
    "    \n",
    "    disp_fn = glob.glob('*-F.tif')[0]\n",
    "    dx_ma = read_array(disp_fn, 1)\n",
    "    dy_ma = read_array(disp_fn, 2)\n",
    "    disp_clim = find_common_clim(dx_ma, dy_ma, symm=True)\n",
    "    \n",
    "    l_stddev_fn = glob.glob('*-L_stddev_filter_output.tif')\n",
    "    if l_stddev_fn:\n",
    "        l_stddev_fn = l_stddev_fn[0]\n",
    "        l_stddev_ma = read_array(l_stddev_fn)\n",
    "        r_stddev_fn = glob.glob('*-R_stddev_filter_output.tif')[0]\n",
    "        r_stddev_ma = read_array(r_stddev_fn)\n",
    "        stddev_clim = list(find_common_clim(l_stddev_ma, r_stddev_ma))\n",
    "        stddev_clim[0] = 0\n",
    "        plot_ar(l_stddev_ma, ax=axa[2], clim=stddev_clim, cmap='inferno', label='std filter (px)')\n",
    "        plot_ar(r_stddev_ma, ax=axa[3], clim=stddev_clim, cmap='inferno', label='std filter (px)')\n",
    "    \n",
    "    plot_ar(l_img_ma, ax=axa[0], cmap='gray', clim_perc=(0,100))\n",
    "    plot_ar(r_img_ma, ax=axa[1], cmap='gray', clim_perc=(0,100))\n",
    "    \n",
    "    plot_ar(dx_ma, ax=axa[4], clim=disp_clim, cmap='RdBu', label='x disparity (px)')\n",
    "    plot_ar(dy_ma, ax=axa[5], clim=disp_clim, cmap='RdBu', label='y disparity (px)')\n",
    "    \n",
    "    plt.suptitle(os.path.split(outdir)[-1])\n",
    "    plt.tight_layout()\n",
    "    out_fn = l_img_fn.split('-L.tif')[0]+'-corr_report.png'\n",
    "    plt.savefig(out_fn)"
   ]
  },
  {
   "cell_type": "code",
   "execution_count": null,
   "id": "2dd8f8a0-badd-4522-a601-42ffd25ae574",
   "metadata": {},
   "outputs": [],
   "source": [
    "plot_corr_results(outdir)"
   ]
  },
  {
   "cell_type": "markdown",
   "id": "12579a18-6965-4338-a36d-552dd1994509",
   "metadata": {},
   "source": [
    "## Single pair DEM plots"
   ]
  },
  {
   "cell_type": "code",
   "execution_count": null,
   "id": "c2fb81b3-95d5-4bff-a23c-a3791834411a",
   "metadata": {},
   "outputs": [],
   "source": [
    "def plot_dem_results(outdir, hillshade=True):\n",
    "    f, axa = plt.subplots(1, 5, figsize=(10,3), dpi=220)\n",
    "    axa = axa.ravel()\n",
    "\n",
    "    ortho_fn = glob.glob('*-L_ortho.tif')\n",
    "    if ortho_fn:\n",
    "        ortho_fn = ortho_fn[0]\n",
    "        ortho_ma = read_array(ortho_fn)\n",
    "        plot_ar(ortho_ma, ax=axa[0], cmap='gray')\n",
    "    else:\n",
    "        axa[0].axis('off')\n",
    "        \n",
    "    ortho_fn = glob.glob('*-R_ortho.tif')\n",
    "    if ortho_fn:\n",
    "        ortho_fn = ortho_fn[0]\n",
    "        ortho_ma = read_array(ortho_fn)\n",
    "        plot_ar(ortho_ma, ax=axa[1], cmap='gray')\n",
    "    else:\n",
    "        axa[1].axis('off')\n",
    "    \n",
    "    dem_fn = glob.glob('*-DEM.tif')[0]\n",
    "    dem_ma = read_array(dem_fn)\n",
    "    with rasterio.open(dem_fn) as ds:\n",
    "        dem_gsd = ds.res[0]\n",
    "    \n",
    "    if hillshade:\n",
    "        hs_fn = glob.glob('*-DEM_hs.tif')\n",
    "        if hs_fn:\n",
    "            hs_fn = hs_fn[0]\n",
    "            hs_ma = read_array(hs_fn)\n",
    "        else:\n",
    "            dem_ds = gdal.Open(dem_fn)\n",
    "            hs_ds = gdal.DEMProcessing('', dem_ds, 'hillshade', format='MEM', computeEdges=True)\n",
    "            hs_ma = np.ma.masked_equal(hs_ds.ReadAsArray(), 0)\n",
    "        plot_ar(hs_ma, ax=axa[2], cmap='gray', clim_perc=(5,95), cbar=False)\n",
    "    \n",
    "    #axa[4].set_title(os.path.split(dem_fn)[-1])\n",
    "    plot_ar(dem_ma, ax=axa[2], cmap='viridis', label='Elevation (m HAE)', alpha=0.5)\n",
    "    \n",
    "    scalebar = ScaleBar(dem_gsd)\n",
    "    axa[2].add_artist(scalebar)\n",
    "    \n",
    "    #This is not generated by default (requires point2dem --errorimage)\n",
    "    error_fn = glob.glob('*-IntersectionErr.tif')\n",
    "    if error_fn:\n",
    "        error_fn = error_fn[0]\n",
    "        error_ma = read_array(error_fn)\n",
    "        plot_ar(error_ma, ax=axa[3], clim=get_clim(error_ma), cmap='inferno', label='Intersection Error (m)')\n",
    "    else:\n",
    "        axa[3].axis('off')\n",
    "    \n",
    "    #This is not generated by default (requires point2dem --errorimage)\n",
    "    diff_fn = glob.glob('*-DEM*diff.tif')\n",
    "    if diff_fn:\n",
    "        diff_fn = diff_fn[0]\n",
    "        diff_ma = read_array(diff_fn)\n",
    "        plot_ar(diff_ma, ax=axa[4], clim=get_clim(diff_ma, symm=True), cmap='RdBu', label='Refdem diff (m)')\n",
    "    else:\n",
    "        axa[4].axis('off')\n",
    "    \n",
    "    f.suptitle(os.path.split(outdir)[-1])\n",
    "    f.tight_layout()\n",
    "    out_fn = dem_fn.split('-DEM.tif')[0]+'-stereo_report.png'\n",
    "    plt.savefig(out_fn, bbox_inches='tight')"
   ]
  },
  {
   "cell_type": "code",
   "execution_count": null,
   "id": "a14d3e90-ea9c-4090-9ebd-e9bbdbcb031c",
   "metadata": {},
   "outputs": [],
   "source": [
    "plot_dem_results(outdir)"
   ]
  },
  {
   "cell_type": "markdown",
   "id": "fdf9fc88-89ec-45e9-8e8b-566bba45fb2c",
   "metadata": {},
   "source": [
    "## Multi-view DEM stack plots"
   ]
  },
  {
   "cell_type": "code",
   "execution_count": null,
   "id": "6739bb67-c090-4d57-88ab-b21b57c3486b",
   "metadata": {},
   "outputs": [],
   "source": [
    "outdir = '/Users/dshean/scr/BlackSky/EastonGlacier_20220918-20221012/non-ortho_20230102/stereo_ba_all_maskref_tri_weight_pc_align'"
   ]
  },
  {
   "cell_type": "code",
   "execution_count": null,
   "id": "463b5119-2386-4c46-94d0-3a93877f780e",
   "metadata": {},
   "outputs": [],
   "source": [
    "cd $outdir"
   ]
  },
  {
   "cell_type": "code",
   "execution_count": null,
   "id": "a76cd42e-6d1c-4ea2-a141-3896a3c0507f",
   "metadata": {},
   "outputs": [],
   "source": [
    "#Generate relevant products\n",
    "#!make_dem_stack.sh"
   ]
  },
  {
   "cell_type": "code",
   "execution_count": null,
   "id": "c6099b21-498f-4f69-9b94-e3614a493e75",
   "metadata": {},
   "outputs": [],
   "source": [
    "out_prefix = 'dem_composite'"
   ]
  },
  {
   "cell_type": "code",
   "execution_count": null,
   "id": "19c555ab-33a7-4509-a20d-93f304b82c7e",
   "metadata": {},
   "outputs": [],
   "source": [
    "def plot_dem_stack_results(outdir, out_prefix=out_prefix, hillshade=True):\n",
    "    #Note: could have grid resolution differences here\n",
    "    f, axa = plt.subplots(2,3, figsize=(10,7.5), dpi=300)\n",
    "    axa = axa.ravel()\n",
    "\n",
    "    ortho_fn = f'{out_prefix}_ortho-tile-0.tif'\n",
    "    if os.path.exists(ortho_fn):\n",
    "        ortho_ma = read_array(ortho_fn)\n",
    "        plot_ar(ortho_ma, ax=axa[0], cmap='gray', clim_perc=(0,100))\n",
    "        axa[0].set_title('Orthomosaic')\n",
    "    else:\n",
    "        axa[0].axis('off')\n",
    "    \n",
    "    dem_fn = f'{out_prefix}-tile-0.tif'\n",
    "    dem_ma = read_array(dem_fn)\n",
    "    with rasterio.open(dem_fn) as ds:\n",
    "        dem_gsd = ds.res[0]\n",
    "    \n",
    "    if hillshade:\n",
    "        hs_fn = f'{out_prefix}-tile-0_hs.tif'\n",
    "        if hs_fn:\n",
    "            hs_ma = read_array(hs_fn)\n",
    "        else:\n",
    "            dem_ds = gdal.Open(dem_fn)\n",
    "            hs_ds = gdal.DEMProcessing('', dem_ds, 'hillshade', format='MEM', computeEdges=True)\n",
    "            hs_ma = np.ma.masked_equal(hs_ds.ReadAsArray(), 0)\n",
    "        plot_ar(hs_ma, ax=axa[1], cmap='gray', clim_perc=(5,95), cbar=False)\n",
    "    \n",
    "    #axa[4].set_title(os.path.split(dem_fn)[-1])\n",
    "    plot_ar(dem_ma, ax=axa[1], cmap='viridis', alpha=0.5) #label='Elevation (m HAE)'\n",
    "    axa[1].set_title('DEM composite (m HAE)')\n",
    "    \n",
    "    scalebar = ScaleBar(dem_gsd)\n",
    "    axa[1].add_artist(scalebar)\n",
    "    \n",
    "    count_fn = f'{out_prefix}-tile-0-count.tif'\n",
    "    if os.path.exists(count_fn):\n",
    "        count_ma = read_array(count_fn)\n",
    "        plot_ar(count_ma, ax=axa[2], cmap='YlOrRd', clim_perc=(0,100))\n",
    "        axa[2].set_title('DEM count')\n",
    "    else:\n",
    "        axa[2].axis('off')\n",
    "        \n",
    "    nmad_fn = f'{out_prefix}-tile-0-nmad.tif'\n",
    "    if os.path.exists(nmad_fn):\n",
    "        nmad_ma = read_array(nmad_fn)\n",
    "        plot_ar(nmad_ma, ax=axa[3], cmap='inferno', clim_perc=(0,95))\n",
    "        axa[3].set_title('DEM nmad (m)')\n",
    "    else:\n",
    "        axa[3].axis('off')\n",
    "    \n",
    "    std_fn = f'{out_prefix}-tile-0-stddev.tif'\n",
    "    if os.path.exists(std_fn):\n",
    "        std_ma = read_array(std_fn)\n",
    "        plot_ar(std_ma, ax=axa[4], cmap='inferno', clim_perc=(0,95))\n",
    "        axa[4].set_title('DEM std (m)')\n",
    "    else:\n",
    "        axa[4].axis('off')\n",
    "    \n",
    "    #This is not generated by default (requires point2dem --errorimage)\n",
    "    diff_fn = glob.glob(f'{out_prefix}-tile-0*diff.tif')\n",
    "    if diff_fn:\n",
    "        diff_fn = diff_fn[0]\n",
    "        diff_ma = read_array(diff_fn)\n",
    "        plot_ar(diff_ma, ax=axa[5], clim=get_clim(diff_ma, symm=True), cmap='RdBu') #label='Refdem diff (m)'\n",
    "        axa[5].set_title('DEM diff (m)')\n",
    "    else:\n",
    "        axa[5].axis('off')\n",
    "    \n",
    "    f.suptitle(os.path.split(outdir)[-1])\n",
    "    f.tight_layout()\n",
    "    out_fn = f'{out_prefix}_stack_report.png'\n",
    "    plt.savefig(out_fn, bbox_inches='tight')"
   ]
  },
  {
   "cell_type": "code",
   "execution_count": null,
   "id": "1800c975-7733-4a37-8755-d06369942dde",
   "metadata": {},
   "outputs": [],
   "source": [
    "plot_dem_stack_results(outdir, out_prefix)"
   ]
  }
 ],
 "metadata": {
  "kernelspec": {
   "display_name": "Python 3 (ipykernel)",
   "language": "python",
   "name": "python3"
  },
  "language_info": {
   "codemirror_mode": {
    "name": "ipython",
    "version": 3
   },
   "file_extension": ".py",
   "mimetype": "text/x-python",
   "name": "python",
   "nbconvert_exporter": "python",
   "pygments_lexer": "ipython3",
   "version": "3.10.6"
  }
 },
 "nbformat": 4,
 "nbformat_minor": 5
}
